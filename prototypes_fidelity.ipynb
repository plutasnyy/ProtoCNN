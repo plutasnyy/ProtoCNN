{
 "cells": [
  {
   "cell_type": "code",
   "execution_count": 91,
   "outputs": [
    {
     "name": "stdout",
     "output_type": "stream",
     "text": [
      "The autoreload extension is already loaded. To reload it, use:\n",
      "  %reload_ext autoreload\n"
     ]
    }
   ],
   "source": [
    "from models.protoconv.comet_connector import CommetConnector\n",
    "%reset -f\n",
    "%load_ext autoreload\n",
    "%autoreload 2"
   ],
   "metadata": {
    "collapsed": false,
    "pycharm": {
     "name": "#%%\n"
    }
   }
  },
  {
   "cell_type": "code",
   "execution_count": 95,
   "outputs": [
    {
     "name": "stderr",
     "output_type": "stream",
     "text": [
      "Global seed set to 0\n"
     ]
    }
   ],
   "source": [
    "import os.path\n",
    "import warnings\n",
    "from ast import literal_eval\n",
    "from configparser import ConfigParser\n",
    "from io import BytesIO\n",
    "\n",
    "import comet_ml\n",
    "import numpy as np\n",
    "import pandas as pd\n",
    "import torch\n",
    "from easydict import EasyDict\n",
    "from pytorch_lightning import seed_everything\n",
    "from tqdm.contrib import tenumerate\n",
    "\n",
    "from models.embeddings_dataset_utils import get_dataset\n",
    "from models.protoconv.lit_module import ProtoConvLitModule\n",
    "from utils import plot_html\n",
    "\n",
    "warnings.simplefilter(\"ignore\")\n",
    "seed_everything(0)"
   ],
   "metadata": {
    "collapsed": false,
    "pycharm": {
     "name": "#%%\n"
    }
   }
  },
  {
   "cell_type": "code",
   "execution_count": 147,
   "outputs": [],
   "source": [
    "@torch.no_grad()\n",
    "def calc_decision_flips(model, val_loader):\n",
    "    context = model.conv_filter_size // 2\n",
    "    decision_flips = [0, 0, 0]\n",
    "    all_tests = 0\n",
    "\n",
    "    for batch_id, (text, label) in tenumerate(val_loader, total=len(val_loader)):\n",
    "        first_decision = model(text).logits.item() > 0\n",
    "        all_tests += 1\n",
    "\n",
    "        for test_id in range(3):\n",
    "            output = model(text)\n",
    "            similarities = model.dist_to_sim['log'](output.min_distances.squeeze(0))\n",
    "            evidence = similarities * model.fc1.weight.squeeze(0)\n",
    "            sorting_indexes = np.argsort(evidence.tolist())\n",
    "            enabled_prototypes_indexes = [i for i in sorting_indexes if model.enabled_prototypes_mask[i]]\n",
    "\n",
    "            if first_decision:\n",
    "                prototypes_to_remove = [i for i in enabled_prototypes_indexes[::-1] if evidence[i] > 0]\n",
    "            else:\n",
    "                prototypes_to_remove = [i for i in enabled_prototypes_indexes if evidence[i] < 0]\n",
    "\n",
    "            concept_to_remove =  prototypes_to_remove[0]\n",
    "            center = torch.argmin(output.distances[0, concept_to_remove]).item()\n",
    "            for word_idx in range(center - context, center + context + 1):\n",
    "                if 1 <= word_idx <= len(text[0]) - 2:  # dont remove start and stop:\n",
    "                    text[0, word_idx] = TEXT.vocab.stoi['<unk>']\n",
    "\n",
    "            preds = model(text)\n",
    "            decision = preds.logits.item() > 0\n",
    "            if first_decision != decision:\n",
    "                decision_flips[test_id] += 1\n",
    "\n",
    "\n",
    "    for i in range(3):\n",
    "        decision_flips[i]/=all_tests\n",
    "\n",
    "    return decision_flips"
   ],
   "metadata": {
    "collapsed": false,
    "pycharm": {
     "name": "#%%\n"
    }
   }
  },
  {
   "cell_type": "code",
   "execution_count": 149,
   "outputs": [
    {
     "data": {
      "text/plain": "HBox(children=(FloatProgress(value=0.0, max=5000.0), HTML(value='')))",
      "application/vnd.jupyter.widget-view+json": {
       "version_major": 2,
       "version_minor": 0,
       "model_id": "58814621a56f4f1595348f91a43b103f"
      }
     },
     "metadata": {},
     "output_type": "display_data"
    },
    {
     "name": "stdout",
     "output_type": "stream",
     "text": [
      "\n"
     ]
    },
    {
     "data": {
      "text/plain": "HBox(children=(FloatProgress(value=0.0, max=6000.0), HTML(value='')))",
      "application/vnd.jupyter.widget-view+json": {
       "version_major": 2,
       "version_minor": 0,
       "model_id": "f1f5f428dd484aa2ae63822cc5e482f5"
      }
     },
     "metadata": {},
     "output_type": "display_data"
    },
    {
     "name": "stdout",
     "output_type": "stream",
     "text": [
      "\n"
     ]
    },
    {
     "data": {
      "text/plain": "HBox(children=(FloatProgress(value=0.0, max=6000.0), HTML(value='')))",
      "application/vnd.jupyter.widget-view+json": {
       "version_major": 2,
       "version_minor": 0,
       "model_id": "95067f0b206a4561af09c74de644f811"
      }
     },
     "metadata": {},
     "output_type": "display_data"
    },
    {
     "name": "stdout",
     "output_type": "stream",
     "text": [
      "\n"
     ]
    },
    {
     "data": {
      "text/plain": "HBox(children=(FloatProgress(value=0.0, max=6000.0), HTML(value='')))",
      "application/vnd.jupyter.widget-view+json": {
       "version_major": 2,
       "version_minor": 0,
       "model_id": "800924e5b9a94b8088c88f39e661ed97"
      }
     },
     "metadata": {},
     "output_type": "display_data"
    },
    {
     "name": "stdout",
     "output_type": "stream",
     "text": [
      "\n"
     ]
    },
    {
     "data": {
      "text/plain": "HBox(children=(FloatProgress(value=0.0, max=950.0), HTML(value='')))",
      "application/vnd.jupyter.widget-view+json": {
       "version_major": 2,
       "version_minor": 0,
       "model_id": "8aead0d41ec34af0a7f8c594a9aa1c19"
      }
     },
     "metadata": {},
     "output_type": "display_data"
    },
    {
     "name": "stdout",
     "output_type": "stream",
     "text": [
      "\n"
     ]
    },
    {
     "data": {
      "text/plain": "{'imdb': [0.3442, 0.551, 0.6832],\n 'amazon': [0.278, 0.4685, 0.618],\n 'yelp': [0.32183333333333336, 0.5136666666666667, 0.6423333333333333],\n 'rottentomatoes': [0.43133333333333335,\n  0.6096666666666667,\n  0.7148333333333333],\n 'hotel': [0.3178947368421053, 0.42736842105263156, 0.5210526315789473]}"
     },
     "execution_count": 149,
     "metadata": {},
     "output_type": "execute_result"
    }
   ],
   "source": [
    "config = ConfigParser()\n",
    "config.read('config.ini')\n",
    "comet_config = EasyDict(config['cometml'])\n",
    "commet_connector = CommetConnector(comet_config.apikey, comet_config.projectname, comet_config.workspace)\n",
    "\n",
    "experimetns = {\n",
    "    'imdb': ['a029a55bc9db498fb7a666e18aa902bc', 'fold_0_epoch=25-val_loss_0=0.4684-val_acc_0=0.7918.ckpt'],\n",
    "    'amazon': ['1f8e2f97bfe144b48eb80616a7decf3c', 'fold_0_epoch=35-val_loss_0=0.3721-val_acc_0=0.8520.ckpt'],\n",
    "    'yelp': ['eae70951458b4d61836f7f075056e5eb', 'fold_0_epoch=19-val_loss_0=0.4890-val_acc_0=0.7998.ckpt'],\n",
    "    'rottentomatoes': ['9f9d4ced190946eeb1a020cffad1f20d', 'fold_0_epoch=17-val_loss_0=0.5897-val_acc_0=0.7092.ckpt'],\n",
    "    'hotel': ['d2f6ab0e01a0497aad021bcb26c460ad', 'fold_0_epoch=31-val_loss_0=0.4266-val_acc_0=0.8400.ckpt']\n",
    "}\n",
    "\n",
    "flips_per_ds={}\n",
    "for ds_name, (experiment_id, weights_path) in experimetns.items():\n",
    "    commet_connector.set_experiment(experiment_id)\n",
    "    commet_connector.get_model(weights_path)\n",
    "\n",
    "    model = commet_connector.model.cuda()\n",
    "    train_loader, val_loader, TEXT = commet_connector.train_loader, commet_connector.val_loader, commet_connector.TEXT\n",
    "\n",
    "    flips_per_ds[ds_name] = calc_decision_flips(model, val_loader)\n",
    "\n",
    "flips_per_ds"
   ],
   "metadata": {
    "collapsed": false,
    "pycharm": {
     "name": "#%%\n"
    }
   }
  },
  {
   "cell_type": "code",
   "execution_count": 142,
   "outputs": [
    {
     "data": {
      "text/plain": "HBox(children=(FloatProgress(value=0.0, max=24000.0), HTML(value='')))",
      "application/vnd.jupyter.widget-view+json": {
       "version_major": 2,
       "version_minor": 0,
       "model_id": "841030c929dd4244b7aced0682099974"
      }
     },
     "metadata": {},
     "output_type": "display_data"
    },
    {
     "name": "stdout",
     "output_type": "stream",
     "text": [
      "\n"
     ]
    }
   ],
   "source": [
    "from models.protoconv.data_visualizer import DataVisualizer\n",
    "data_visualizer = DataVisualizer(model, train_loader, vocab_itos=TEXT.vocab.itos)\n",
    "# plot_html(data_visualizer.predict(text, true_label=label.item()))\n"
   ],
   "metadata": {
    "collapsed": false,
    "pycharm": {
     "name": "#%%\n"
    }
   }
  },
  {
   "cell_type": "code",
   "execution_count": 153,
   "outputs": [
    {
     "data": {
      "text/plain": "           Dataset  Prototypes  Decision Flips\n0             imdb           1        0.344200\n1             imdb           2        0.551000\n2             imdb           3        0.683200\n3           amazon           1        0.278000\n4           amazon           2        0.468500\n5           amazon           3        0.618000\n6             yelp           1        0.321833\n7             yelp           2        0.513667\n8             yelp           3        0.642333\n9   rottentomatoes           1        0.431333\n10  rottentomatoes           2        0.609667\n11  rottentomatoes           3        0.714833\n12           hotel           1        0.317895\n13           hotel           2        0.427368\n14           hotel           3        0.521053",
      "text/html": "<div>\n<style scoped>\n    .dataframe tbody tr th:only-of-type {\n        vertical-align: middle;\n    }\n\n    .dataframe tbody tr th {\n        vertical-align: top;\n    }\n\n    .dataframe thead th {\n        text-align: right;\n    }\n</style>\n<table border=\"1\" class=\"dataframe\">\n  <thead>\n    <tr style=\"text-align: right;\">\n      <th></th>\n      <th>Dataset</th>\n      <th>Prototypes</th>\n      <th>Decision Flips</th>\n    </tr>\n  </thead>\n  <tbody>\n    <tr>\n      <th>0</th>\n      <td>imdb</td>\n      <td>1</td>\n      <td>0.344200</td>\n    </tr>\n    <tr>\n      <th>1</th>\n      <td>imdb</td>\n      <td>2</td>\n      <td>0.551000</td>\n    </tr>\n    <tr>\n      <th>2</th>\n      <td>imdb</td>\n      <td>3</td>\n      <td>0.683200</td>\n    </tr>\n    <tr>\n      <th>3</th>\n      <td>amazon</td>\n      <td>1</td>\n      <td>0.278000</td>\n    </tr>\n    <tr>\n      <th>4</th>\n      <td>amazon</td>\n      <td>2</td>\n      <td>0.468500</td>\n    </tr>\n    <tr>\n      <th>5</th>\n      <td>amazon</td>\n      <td>3</td>\n      <td>0.618000</td>\n    </tr>\n    <tr>\n      <th>6</th>\n      <td>yelp</td>\n      <td>1</td>\n      <td>0.321833</td>\n    </tr>\n    <tr>\n      <th>7</th>\n      <td>yelp</td>\n      <td>2</td>\n      <td>0.513667</td>\n    </tr>\n    <tr>\n      <th>8</th>\n      <td>yelp</td>\n      <td>3</td>\n      <td>0.642333</td>\n    </tr>\n    <tr>\n      <th>9</th>\n      <td>rottentomatoes</td>\n      <td>1</td>\n      <td>0.431333</td>\n    </tr>\n    <tr>\n      <th>10</th>\n      <td>rottentomatoes</td>\n      <td>2</td>\n      <td>0.609667</td>\n    </tr>\n    <tr>\n      <th>11</th>\n      <td>rottentomatoes</td>\n      <td>3</td>\n      <td>0.714833</td>\n    </tr>\n    <tr>\n      <th>12</th>\n      <td>hotel</td>\n      <td>1</td>\n      <td>0.317895</td>\n    </tr>\n    <tr>\n      <th>13</th>\n      <td>hotel</td>\n      <td>2</td>\n      <td>0.427368</td>\n    </tr>\n    <tr>\n      <th>14</th>\n      <td>hotel</td>\n      <td>3</td>\n      <td>0.521053</td>\n    </tr>\n  </tbody>\n</table>\n</div>"
     },
     "execution_count": 153,
     "metadata": {},
     "output_type": "execute_result"
    }
   ],
   "source": [
    "import pandas as pd\n",
    "import seaborn as sns\n",
    "import matplotlib.pyplot as plt\n",
    "\n",
    "sns.set_style('whitegrid')\n",
    "sns.set_context('paper', font_scale=1.2)\n",
    "pd.set_option('display.max_rows', 110)\n",
    "\n",
    "data = [[ds, prots,percent] for ds, flips in flips_per_ds.items() for prots, percent in zip([1,2,3], flips)]\n",
    "df = pd.DataFrame(data, columns=['Dataset','Prototypes','Decision Flips'])\n",
    "df\n"
   ],
   "metadata": {
    "collapsed": false,
    "pycharm": {
     "name": "#%%\n"
    }
   }
  },
  {
   "cell_type": "code",
   "execution_count": 156,
   "outputs": [
    {
     "data": {
      "text/plain": "(0.0, 0.9)"
     },
     "execution_count": 156,
     "metadata": {},
     "output_type": "execute_result"
    },
    {
     "data": {
      "text/plain": "<Figure size 432x288 with 1 Axes>",
      "image/png": "[encoded data removed]"
     },
     "metadata": {},
     "output_type": "display_data"
    }
   ],
   "source": [
    "sns.barplot(x=\"Dataset\", y=\"Decision Flips\", hue=\"Prototypes\", data=df, palette=sns.color_palette(\"icefire\"))\n",
    "plt.ylim(0,0.9)"
   ],
   "metadata": {
    "collapsed": false,
    "pycharm": {
     "name": "#%%\n"
    }
   }
  },
  {
   "cell_type": "code",
   "execution_count": null,
   "outputs": [],
   "source": [],
   "metadata": {
    "collapsed": false,
    "pycharm": {
     "name": "#%%\n"
    }
   }
  }
 ],
 "metadata": {
  "kernelspec": {
   "display_name": "Python 3",
   "language": "python",
   "name": "python3"
  },
  "language_info": {
   "codemirror_mode": {
    "name": "ipython",
    "version": 2
   },
   "file_extension": ".py",
   "mimetype": "text/x-python",
   "name": "python",
   "nbconvert_exporter": "python",
   "pygments_lexer": "ipython2",
   "version": "2.7.6"
  }
 },
 "nbformat": 4,
 "nbformat_minor": 0
}