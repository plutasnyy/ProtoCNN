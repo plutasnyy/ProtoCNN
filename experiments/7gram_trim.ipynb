{
 "cells": [
  {
   "cell_type": "code",
   "execution_count": 1,
   "metadata": {
    "pycharm": {
     "name": "#%%\n"
    }
   },
   "outputs": [
    {
     "name": "stderr",
     "output_type": "stream",
     "text": [
      "Global seed set to 0\n"
     ]
    }
   ],
   "source": [
    "import string\n",
    "import warnings\n",
    "from configparser import ConfigParser\n",
    "\n",
    "from easydict import EasyDict\n",
    "from pytorch_lightning import seed_everything\n",
    "\n",
    "from models.protoconv.comet_connector import CometConnector\n",
    "from models.protoconv.data_visualizer import DataVisualizer\n",
    "from utils import plot_html\n",
    "\n",
    "warnings.simplefilter(\"ignore\")\n",
    "seed_everything(0)\n",
    "\n",
    "config = ConfigParser()\n",
    "config.read('../config.ini')\n",
    "comet_config = EasyDict(config['cometml'])\n",
    "\n",
    "comet_connector = CometConnector(comet_config.apikey, comet_config.projectname, comet_config.workspace, rel_path='..')\n"
   ]
  },
  {
   "cell_type": "code",
   "execution_count": 2,
   "metadata": {
    "pycharm": {
     "name": "#%%\n"
    }
   },
   "outputs": [],
   "source": [
    "experiments_7gram = {\n",
    "    'imdb': '3952f03cdf294788a219421f539bd285',\n",
    "    'amazon': '5211ae86ae4949468f1f7a1e495cc6b4',\n",
    "    'yelp': '13051aa6d2f3480ca4ee11a5bd82f5ce',\n",
    "    'rottentomatoes': '21be41b9bb304fbc9a7322775e78fe14',\n",
    "    'hotel': 'f09b420d28654e7cbf8ec13326b0944d'\n",
    "}"
   ]
  },
  {
   "cell_type": "code",
   "execution_count": 19,
   "metadata": {
    "pycharm": {
     "name": "#%%\n"
    },
    "scrolled": false
   },
   "outputs": [
    {
     "data": {
      "text/plain": "<IPython.core.display.HTML object>",
      "text/html": "<h1>imdb 0</h1>"
     },
     "metadata": {},
     "output_type": "display_data"
    },
    {
     "name": "stdout",
     "output_type": "stream",
     "text": [
      "\\begin{tabular}{lr}\n",
      "\\toprule\n",
      "                                                                                                  Prototype &  Weight \\\\\n",
      "\\midrule\n",
      "                                                       for me this is a \\textbf{pleasant} \\textbf{surprise} &   1.229 \\\\\n",
      " \\textbf{danson} \\textbf{and} \\textbf{whoopie} \\textbf{goldberg} \\textbf{is} \\textbf{an} \\textbf{awesomely} &   0.849 \\\\\n",
      "                                the \\textbf{movie} \\textbf{is} \\textbf{also} \\textbf{very} \\textbf{stylish} &   0.845 \\\\\n",
      "                                 this \\textbf{movie} \\textbf{is} \\textbf{just} \\textbf{a} \\textbf{waste} of &  -0.660 \\\\\n",
      "             \\textbf{children} \\textbf{is} \\textbf{pathetic} \\textbf{and} \\textbf{the} \\textbf{attempts} to &  -0.702 \\\\\n",
      "                           it was \\textbf{laughable} \\textbf{i} \\textbf{could} \\textbf{n't} \\textbf{resist} &  -0.953 \\\\\n",
      "\\bottomrule\n",
      "\\end{tabular}\n",
      "\n"
     ]
    },
    {
     "data": {
      "text/plain": "<IPython.core.display.HTML object>",
      "text/html": "<h1>imdb 1</h1>"
     },
     "metadata": {},
     "output_type": "display_data"
    },
    {
     "name": "stdout",
     "output_type": "stream",
     "text": [
      "\\begin{tabular}{lr}\n",
      "\\toprule\n",
      "                                                                                                              Prototype &  Weight \\\\\n",
      "\\midrule\n",
      "                                   's \\textbf{life} \\textbf{is} \\textbf{a} \\textbf{really} \\textbf{good} \\textbf{piece} &   0.872 \\\\\n",
      "                                               this is a \\textbf{pretty} \\textbf{good} \\textbf{ensemble} \\textbf{piece} &   0.653 \\\\\n",
      "                                                                          it 's a very \\textbf{nice} \\textbf{movie} and &   0.571 \\\\\n",
      "                                        the \\textbf{worst} \\textbf{horror} \\textbf{movie} \\textbf{ever} \\textbf{put} to &  -0.445 \\\\\n",
      "                                                                               \\textbf{waste} \\textbf{of} \\textbf{time} &  -0.460 \\\\\n",
      "                             \\textbf{script} \\textbf{but} \\textbf{this} \\textbf{was} \\textbf{really} \\textbf{awful} the &  -0.839 \\\\\n",
      "                       \\textbf{badly} \\textbf{edited} \\textbf{and} \\textbf{the} \\textbf{constant} \\textbf{chatter} from &  -0.901 \\\\\n",
      " \\textbf{effort} \\textbf{cobbling} \\textbf{together} \\textbf{uninspired} \\textbf{snippets} \\textbf{of} \\textbf{chomsky} &  -1.418 \\\\\n",
      "\\bottomrule\n",
      "\\end{tabular}\n",
      "\n"
     ]
    },
    {
     "data": {
      "text/plain": "<IPython.core.display.HTML object>",
      "text/html": "<h1>imdb 2</h1>"
     },
     "metadata": {},
     "output_type": "display_data"
    },
    {
     "name": "stdout",
     "output_type": "stream",
     "text": [
      "\\begin{tabular}{lr}\n",
      "\\toprule\n",
      "                                                                                               Prototype &  Weight \\\\\n",
      "\\midrule\n",
      "                     \\textbf{also} \\textbf{is} \\textbf{excellent} \\textbf{and} \\textbf{innovative.} this &   0.798 \\\\\n",
      " are \\textbf{still} \\textbf{producing} \\textbf{good} \\textbf{films} \\textbf{highly} \\textbf{recommended} &   0.684 \\\\\n",
      "          will \\textbf{delight} \\textbf{the} \\textbf{whole} \\textbf{family} \\textbf{it} \\textbf{manages} &   0.589 \\\\\n",
      "                  it what \\textbf{really} \\textbf{makes} \\textbf{it} \\textbf{all} \\textbf{unforgettable} &   0.278 \\\\\n",
      "              the \\textbf{world} \\textbf{it} \\textbf{is} \\textbf{an} \\textbf{inspiring} \\textbf{message} &   0.118 \\\\\n",
      "                     \\textbf{worst} \\textbf{film} \\textbf{i} \\textbf{have} \\textbf{ever} \\textbf{seen} i &  -0.363 \\\\\n",
      "        \\textbf{n't} \\textbf{waste} \\textbf{your} \\textbf{time} \\textbf{with} \\textbf{the} \\textbf{plot} &  -0.443 \\\\\n",
      "       \\textbf{worst} \\textbf{film} \\textbf{i} \\textbf{have} \\textbf{ever} \\textbf{seen} \\textbf{anyone} &  -0.575 \\\\\n",
      "                                very \\textbf{disappointing} \\textbf{and} \\textbf{a} \\textbf{waste} of my &  -0.997 \\\\\n",
      "\\bottomrule\n",
      "\\end{tabular}\n",
      "\n"
     ]
    },
    {
     "data": {
      "text/plain": "<IPython.core.display.HTML object>",
      "text/html": "<h1>imdb 3</h1>"
     },
     "metadata": {},
     "output_type": "display_data"
    },
    {
     "name": "stdout",
     "output_type": "stream",
     "text": [
      "\\begin{tabular}{lr}\n",
      "\\toprule\n",
      "                                                                                                          Prototype &  Weight \\\\\n",
      "\\midrule\n",
      "                 its \\textbf{narration} \\textbf{with} \\textbf{memorable} \\textbf{soundtrack} \\textbf{especialy} the &   0.822 \\\\\n",
      " \\textbf{score} \\textbf{was} \\textbf{especially} \\textbf{memorable} \\textbf{and} \\textbf{emotion} \\textbf{stirring} &   0.623 \\\\\n",
      "          \\textbf{lush} \\textbf{and} \\textbf{romantic} \\textbf{which} \\textbf{made} \\textbf{it} \\textbf{acceptable} &   0.616 \\\\\n",
      "                    \\textbf{great} \\textbf{the} \\textbf{story} \\textbf{is} \\textbf{nice} \\textbf{it} \\textbf{tells} &   0.440 \\\\\n",
      "                                     her \\textbf{best} \\textbf{to} \\textbf{resist} \\textbf{his} \\textbf{powers} but &   0.080 \\\\\n",
      "                                           about it just \\textbf{plain} \\textbf{crap} \\textbf{and} \\textbf{whoever} &  -0.278 \\\\\n",
      "                         \\textbf{ok} \\textbf{and} \\textbf{being} \\textbf{terribly} \\textbf{wooden.} \\textbf{anyway} &  -0.639 \\\\\n",
      "                       \\textbf{poor} \\textbf{sunny} \\textbf{a} \\textbf{vastly} \\textbf{inferior} \\textbf{runner} up &  -0.702 \\\\\n",
      "                            a \\textbf{complete} \\textbf{waste} \\textbf{of} \\textbf{time} \\textbf{it} \\textbf{might} &  -0.850 \\\\\n",
      "\\bottomrule\n",
      "\\end{tabular}\n",
      "\n"
     ]
    },
    {
     "data": {
      "text/plain": "<IPython.core.display.HTML object>",
      "text/html": "<h1>imdb 4</h1>"
     },
     "metadata": {},
     "output_type": "display_data"
    },
    {
     "name": "stdout",
     "output_type": "stream",
     "text": [
      "\\begin{tabular}{lr}\n",
      "\\toprule\n",
      "                                                                                                       Prototype &  Weight \\\\\n",
      "\\midrule\n",
      " \\textbf{atmosphere} \\textbf{and} \\textbf{lend} \\textbf{it} \\textbf{an} \\textbf{almost} \\textbf{expressionistic} &   0.867 \\\\\n",
      "        \\textbf{smooth} \\textbf{criminal} \\textbf{which} \\textbf{is} \\textbf{absolutely} \\textbf{fantastic} with &   0.700 \\\\\n",
      "                             and \\textbf{highly} \\textbf{recommend} \\textbf{it!} \\textbf{the} \\textbf{directing} &   0.619 \\\\\n",
      "                              but \\textbf{overall} \\textbf{it} \\textbf{was} \\textbf{very} \\textbf{enjoyable} and &   0.524 \\\\\n",
      "                                     the \\textbf{story} \\textbf{has} \\textbf{lots} \\textbf{of} \\textbf{holes} in &   0.144 \\\\\n",
      "                          the \\textbf{characters} \\textbf{are} \\textbf{believable} \\textbf{the} \\textbf{plot} is &  -0.018 \\\\\n",
      "                                                           a \\textbf{story} \\textbf{oh} \\textbf{really} he was a &  -0.226 \\\\\n",
      "                                             the \\textbf{movie} \\textbf{is} \\textbf{so} \\textbf{obsessed} by its &  -0.248 \\\\\n",
      "                                           \\textbf{one} \\textbf{of} \\textbf{the} \\textbf{worst} \\textbf{films} i &  -0.688 \\\\\n",
      "                                     the \\textbf{burden} \\textbf{of} \\textbf{a} \\textbf{dull} \\textbf{story} and &  -0.731 \\\\\n",
      "              \\textbf{waste} \\textbf{your} \\textbf{money} \\textbf{on} \\textbf{this} \\textbf{film} \\textbf{don't} &  -1.475 \\\\\n",
      "\\bottomrule\n",
      "\\end{tabular}\n",
      "\n"
     ]
    },
    {
     "data": {
      "text/plain": "<IPython.core.display.HTML object>",
      "text/html": "<h1>amazon 0</h1>"
     },
     "metadata": {},
     "output_type": "display_data"
    },
    {
     "name": "stdout",
     "output_type": "stream",
     "text": [
      "\\begin{tabular}{lr}\n",
      "\\toprule\n",
      "                                                                                   Prototype &  Weight \\\\\n",
      "\\midrule\n",
      "                                                   \\textbf{amazing} \\textbf{i} \\textbf{read} &   0.996 \\\\\n",
      "              \\textbf{beautiful} \\textbf{and} \\textbf{well} \\textbf{made} \\textbf{certainly} &   0.828 \\\\\n",
      "                                                  \\textbf{excellent} \\textbf{i} \\textbf{saw} &   0.770 \\\\\n",
      "                                            a \\textbf{great} \\textbf{read} \\textbf{first} of &   0.232 \\\\\n",
      "             it \\textbf{would} \\textbf{add} \\textbf{more} \\textbf{yellow} \\textbf{flavor} to &   0.016 \\\\\n",
      "     \\textbf{n't} \\textbf{waste} \\textbf{your} \\textbf{money} \\textbf{i} \\textbf{tried} this &  -0.373 \\\\\n",
      " very \\textbf{wrong} \\textbf{the} \\textbf{acting} \\textbf{is} \\textbf{terrible} \\textbf{not} &  -0.375 \\\\\n",
      "                                                    \\textbf{poor} \\textbf{quality} there are &  -0.465 \\\\\n",
      "                                                                  \\textbf{disapointing} i do &  -0.547 \\\\\n",
      "                                        \\textbf{terrible} \\textbf{terrible} \\textbf{movie} i &  -0.800 \\\\\n",
      "\\bottomrule\n",
      "\\end{tabular}\n",
      "\n"
     ]
    },
    {
     "data": {
      "text/plain": "<IPython.core.display.HTML object>",
      "text/html": "<h1>amazon 1</h1>"
     },
     "metadata": {},
     "output_type": "display_data"
    },
    {
     "name": "stdout",
     "output_type": "stream",
     "text": [
      "\\begin{tabular}{lr}\n",
      "\\toprule\n",
      "                                                                                         Prototype &  Weight \\\\\n",
      "\\midrule\n",
      "                                                              my \\textbf{favorite} \\textbf{book} i &   0.908 \\\\\n",
      "    i \\textbf{highly} \\textbf{recommend} \\textbf{this} \\textbf{book} \\textbf{to} \\textbf{everyone} &   0.781 \\\\\n",
      "                                                   \\textbf{perfect} \\textbf{we} \\textbf{took} this &   0.734 \\\\\n",
      "                                                       's a \\textbf{great} \\textbf{song} and it 's &   0.140 \\\\\n",
      " \\textbf{break} \\textbf{the} \\textbf{chain} \\textbf{if} \\textbf{you} \\textbf{are} \\textbf{looking} &  -0.018 \\\\\n",
      "                               \\textbf{not} \\textbf{waste} \\textbf{your} \\textbf{money} i have had &  -0.351 \\\\\n",
      "                                                           \\textbf{not} \\textbf{recommended} i did &  -0.664 \\\\\n",
      "                \\textbf{uh} \\textbf{oh} \\textbf{clay} \\textbf{no} \\textbf{doubt} \\textbf{clay} has &  -0.831 \\\\\n",
      "                                                                so do \\textbf{n't} \\textbf{buy} it &  -0.885 \\\\\n",
      "\\bottomrule\n",
      "\\end{tabular}\n",
      "\n"
     ]
    },
    {
     "data": {
      "text/plain": "<IPython.core.display.HTML object>",
      "text/html": "<h1>amazon 2</h1>"
     },
     "metadata": {},
     "output_type": "display_data"
    },
    {
     "name": "stdout",
     "output_type": "stream",
     "text": [
      "\\begin{tabular}{lr}\n",
      "\\toprule\n",
      "                                                                                  Prototype &  Weight \\\\\n",
      "\\midrule\n",
      "                                                             \\textbf{great} \\textbf{dvd} my &   0.901 \\\\\n",
      "                                                 \\textbf{excellent} \\textbf{product} i have &   0.826 \\\\\n",
      "                  a \\textbf{wonderful} \\textbf{epic} \\textbf{this} \\textbf{is} \\textbf{one} &   0.724 \\\\\n",
      " \\textbf{help} \\textbf{but} \\textbf{let} \\textbf{it} \\textbf{go} \\textbf{that} \\textbf{way} &   0.003 \\\\\n",
      "              it \\textbf{simply} \\textbf{does} \\textbf{not} \\textbf{work} \\textbf{read} the &  -0.107 \\\\\n",
      "                                              \\textbf{avoid} \\textbf{this} \\textbf{product} &  -0.512 \\\\\n",
      "                 \\textbf{plastic} \\textbf{parts} \\textbf{crack/} \\textbf{break} off so that &  -0.522 \\\\\n",
      "                                                                  \\textbf{useless} i was so &  -0.784 \\\\\n",
      "                                                                    very \\textbf{weak} i 'm &  -0.858 \\\\\n",
      "\\bottomrule\n",
      "\\end{tabular}\n",
      "\n"
     ]
    },
    {
     "data": {
      "text/plain": "<IPython.core.display.HTML object>",
      "text/html": "<h1>amazon 3</h1>"
     },
     "metadata": {},
     "output_type": "display_data"
    },
    {
     "name": "stdout",
     "output_type": "stream",
     "text": [
      "\\begin{tabular}{lr}\n",
      "\\toprule\n",
      "                                                                                          Prototype &  Weight \\\\\n",
      "\\midrule\n",
      "                                                       very \\textbf{good} \\textbf{i} \\textbf{loved} &   1.092 \\\\\n",
      "                        i \\textbf{highly} \\textbf{recommend} \\textbf{this} \\textbf{book} which will &   0.907 \\\\\n",
      "        \\textbf{excellent} \\textbf{reading} \\textbf{this} \\textbf{book} \\textbf{was} \\textbf{great} &   0.627 \\\\\n",
      "       \\textbf{movie} \\textbf{but} \\textbf{do} \\textbf{not} \\textbf{buy} \\textbf{this} \\textbf{dvd} &  -0.243 \\\\\n",
      "                                was the \\textbf{biggest} \\textbf{waste} \\textbf{of} \\textbf{time} i &  -0.585 \\\\\n",
      "                                                     \\textbf{waste} \\textbf{of} \\textbf{time} i was &  -0.828 \\\\\n",
      " \\textbf{slung} \\textbf{under} \\textbf{its} \\textbf{belly} \\textbf{only} \\textbf{one} \\textbf{b-26} &  -0.900 \\\\\n",
      "\\bottomrule\n",
      "\\end{tabular}\n",
      "\n"
     ]
    },
    {
     "data": {
      "text/plain": "<IPython.core.display.HTML object>",
      "text/html": "<h1>amazon 4</h1>"
     },
     "metadata": {},
     "output_type": "display_data"
    },
    {
     "name": "stdout",
     "output_type": "stream",
     "text": [
      "\\begin{tabular}{lr}\n",
      "\\toprule\n",
      "                                                                             Prototype &  Weight \\\\\n",
      "\\midrule\n",
      "                                                \\textbf{excellent} \\textbf{resource} i &   1.442 \\\\\n",
      "                               \\textbf{great} \\textbf{fun} \\textbf{my} \\textbf{little} &   1.383 \\\\\n",
      "                                     we \\textbf{really} \\textbf{wanted} them to have a &   0.027 \\\\\n",
      "                   was a \\textbf{complete} \\textbf{waste} \\textbf{of} \\textbf{money} i &  -0.808 \\\\\n",
      " \\textbf{bad} \\textbf{acting} \\textbf{and} \\textbf{stupid} \\textbf{characters} this is &  -0.937 \\\\\n",
      "                                                          do \\textbf{not} \\textbf{buy} &  -1.066 \\\\\n",
      "\\bottomrule\n",
      "\\end{tabular}\n",
      "\n"
     ]
    },
    {
     "data": {
      "text/plain": "<IPython.core.display.HTML object>",
      "text/html": "<h1>yelp 0</h1>"
     },
     "metadata": {},
     "output_type": "display_data"
    },
    {
     "name": "stdout",
     "output_type": "stream",
     "text": [
      "\\begin{tabular}{lr}\n",
      "\\toprule\n",
      "                                                                                                  Prototype &  Weight \\\\\n",
      "\\midrule\n",
      "     and \\textbf{absolutey} \\textbf{best} \\textbf{service} \\textbf{ever} \\textbf{highly} \\textbf{recommend} &   0.751 \\\\\n",
      "                                          here are very \\textbf{friendly} \\textbf{and} \\textbf{ensure} that &   0.396 \\\\\n",
      " \\textbf{concert} \\textbf{series} \\textbf{of} \\textbf{recent} \\textbf{performances} \\textbf{by} \\textbf{kc} &   0.380 \\\\\n",
      "                                                                                      we \\textbf{love} this &   0.373 \\\\\n",
      "                           and we \\textbf{enjoyed} \\textbf{the} \\textbf{prime} \\textbf{rib} \\textbf{dinner} &   0.318 \\\\\n",
      "                              have our \\textbf{discount} \\textbf{i} \\textbf{protested} \\textbf{saying} that &  -0.031 \\\\\n",
      "                                                                    \\textbf{worst} \\textbf{experience} they &  -0.585 \\\\\n",
      "           \\textbf{worst} \\textbf{food} \\textbf{ever} \\textbf{i} \\textbf{honestly} \\textbf{do} \\textbf{n't} &  -0.614 \\\\\n",
      "                                               \\textbf{not} \\textbf{be} \\textbf{coming} \\textbf{back} again &  -0.730 \\\\\n",
      "    \\textbf{refills} \\textbf{and} \\textbf{the} \\textbf{waitress} \\textbf{never} \\textbf{came} \\textbf{back} &  -0.819 \\\\\n",
      "\\bottomrule\n",
      "\\end{tabular}\n",
      "\n"
     ]
    },
    {
     "data": {
      "text/plain": "<IPython.core.display.HTML object>",
      "text/html": "<h1>yelp 1</h1>"
     },
     "metadata": {},
     "output_type": "display_data"
    },
    {
     "name": "stdout",
     "output_type": "stream",
     "text": [
      "\\begin{tabular}{lr}\n",
      "\\toprule\n",
      "                                                                                                    Prototype &  Weight \\\\\n",
      "\\midrule\n",
      "                                            \\textbf{huuuge} \\textbf{portion} \\textbf{great} \\textbf{food} for &   0.721 \\\\\n",
      "                                             it is \\textbf{truly} \\textbf{an} \\textbf{amazing} \\textbf{place} &   0.645 \\\\\n",
      " \\textbf{sweet} \\textbf{and} \\textbf{crunchy} \\textbf{and} \\textbf{still} \\textbf{totally} \\textbf{delicious} &   0.603 \\\\\n",
      "                                               the \\textbf{tacos} \\textbf{here} \\textbf{are} \\textbf{tasty} i &   0.463 \\\\\n",
      "                                 is \\textbf{one} \\textbf{of} \\textbf{the} \\textbf{worst} \\textbf{feelings} to &  -0.380 \\\\\n",
      "                                                                             \\textbf{never} \\textbf{go} again &  -0.448 \\\\\n",
      "        \\textbf{callous} \\textbf{remover} \\textbf{etc} \\textbf{i} \\textbf{left} \\textbf{spending} \\textbf{90} &  -0.604 \\\\\n",
      "                                                                                  just had the \\textbf{worst} &  -0.639 \\\\\n",
      "              their \\textbf{staff} \\textbf{really} \\textbf{really} \\textbf{badly} \\textbf{never} \\textbf{say} &  -0.835 \\\\\n",
      "\\bottomrule\n",
      "\\end{tabular}\n",
      "\n"
     ]
    },
    {
     "data": {
      "text/plain": "<IPython.core.display.HTML object>",
      "text/html": "<h1>yelp 2</h1>"
     },
     "metadata": {},
     "output_type": "display_data"
    },
    {
     "name": "stdout",
     "output_type": "stream",
     "text": [
      "\\begin{tabular}{lr}\n",
      "\\toprule\n",
      "                                                                                                    Prototype &  Weight \\\\\n",
      "\\midrule\n",
      "                                                                            \\textbf{perfect} \\textbf{spot} on &   1.071 \\\\\n",
      "                            a \\textbf{huge} \\textbf{thick} \\textbf{piece} \\textbf{perfect} \\textbf{amount} of &   0.743 \\\\\n",
      "         \\textbf{experience} \\textbf{aside} \\textbf{it} \\textbf{is} \\textbf{a} \\textbf{great} \\textbf{priced} &   0.632 \\\\\n",
      "                                                 to \\textbf{create} \\textbf{your} \\textbf{salad} after it was &   0.050 \\\\\n",
      " \\textbf{n't} \\textbf{go} \\textbf{back} \\textbf{again} \\textbf{sorry} \\textbf{cheeburger} \\textbf{cheeburger} &  -0.608 \\\\\n",
      "           will \\textbf{never} \\textbf{again} \\textbf{waste} \\textbf{my} \\textbf{money} \\textbf{here. please} &  -0.769 \\\\\n",
      "       \\textbf{crappy} \\textbf{as} \\textbf{well} \\textbf{the} \\textbf{server} \\textbf{breath} \\textbf{smells} &  -1.185 \\\\\n",
      "\\bottomrule\n",
      "\\end{tabular}\n",
      "\n"
     ]
    },
    {
     "data": {
      "text/plain": "<IPython.core.display.HTML object>",
      "text/html": "<h1>yelp 3</h1>"
     },
     "metadata": {},
     "output_type": "display_data"
    },
    {
     "name": "stdout",
     "output_type": "stream",
     "text": [
      "\\begin{tabular}{lr}\n",
      "\\toprule\n",
      "                                                                                                      Prototype &  Weight \\\\\n",
      "\\midrule\n",
      "                                                             for \\textbf{cheap} \\textbf{thrills} \\textbf{enjoy} &   1.061 \\\\\n",
      "            \\textbf{rolls} \\textbf{are} \\textbf{awesome} \\textbf{too} \\textbf{i} \\textbf{'d} \\textbf{recommend} &   0.481 \\\\\n",
      "                                            here \\textbf{amazing} \\textbf{selection} \\textbf{whether} you 're a &   0.395 \\\\\n",
      "                                            \\textbf{yummy} \\textbf{chicken} \\textbf{caesar} \\textbf{salads} too &   0.333 \\\\\n",
      "                           that this \\textbf{place} \\textbf{has} \\textbf{a} \\textbf{healthy} \\textbf{lifestyle} &   0.056 \\\\\n",
      "                                            is \\textbf{not} \\textbf{a} \\textbf{big} \\textbf{restaurant} but the &   0.007 \\\\\n",
      "             \\textbf{tired} \\textbf{never} \\textbf{to} \\textbf{return} \\textbf{to} \\textbf{this} \\textbf{place} &  -0.104 \\\\\n",
      "        \\textbf{spotty} \\textbf{we} \\textbf{had} \\textbf{to} \\textbf{frequently} \\textbf{flag} \\textbf{someone} &  -0.732 \\\\\n",
      "                    \\textbf{actually} \\textbf{stated} \\textbf{\\\"i} \\textbf{hate} \\textbf{this} \\textbf{bun\\} as &  -0.766 \\\\\n",
      " \\textbf{excruciating} \\textbf{wait} \\textbf{than} \\textbf{management} \\textbf{have} \\textbf{to} \\textbf{worry} &  -0.788 \\\\\n",
      "\\bottomrule\n",
      "\\end{tabular}\n",
      "\n"
     ]
    },
    {
     "data": {
      "text/plain": "<IPython.core.display.HTML object>",
      "text/html": "<h1>yelp 4</h1>"
     },
     "metadata": {},
     "output_type": "display_data"
    },
    {
     "name": "stdout",
     "output_type": "stream",
     "text": [
      "\\begin{tabular}{lr}\n",
      "\\toprule\n",
      "                                                                                                    Prototype &  Weight \\\\\n",
      "\\midrule\n",
      " \\textbf{goers} \\textbf{ there} \\textbf{are} \\textbf{some} \\textbf{fabulous} \\textbf{special} \\textbf{events} &   0.781 \\\\\n",
      " \\textbf{bill. water} \\textbf{boiled} \\textbf{fish} \\textbf{superb} \\textbf{the} \\textbf{one} \\textbf{saving} &   0.621 \\\\\n",
      "          \\textbf{food} \\textbf{is} \\textbf{great} \\textbf{for} \\textbf{an} \\textbf{excellent} \\textbf{price} &   0.435 \\\\\n",
      "                                             \\textbf{worst} \\textbf{food} \\textbf{eeevvvvvvveeeeerrrr 65} for &  -0.489 \\\\\n",
      "                  \\textbf{yell} \\textbf{at} \\textbf{me} \\textbf{asking} \\textbf{how} \\textbf{i} \\textbf{know} &  -0.509 \\\\\n",
      "                                   this was \\textbf{absolutely} \\textbf{horrible} \\textbf{i} \\textbf{got} the &  -0.575 \\\\\n",
      "                           \\textbf{worst} \\textbf{wait} \\textbf{time} \\textbf{ever} \\textbf{over} \\textbf{30} &  -0.593 \\\\\n",
      "                                                       \\textbf{not} \\textbf{be} \\textbf{coming} \\textbf{back} &  -0.870 \\\\\n",
      "\\bottomrule\n",
      "\\end{tabular}\n",
      "\n"
     ]
    },
    {
     "data": {
      "text/plain": "<IPython.core.display.HTML object>",
      "text/html": "<h1>rottentomatoes 0</h1>"
     },
     "metadata": {},
     "output_type": "display_data"
    },
    {
     "name": "stdout",
     "output_type": "stream",
     "text": [
      "\\begin{tabular}{lr}\n",
      "\\toprule\n",
      "                                                                                                         Prototype &  Weight \\\\\n",
      "\\midrule\n",
      "                                                                a \\textbf{thrilling} \\textbf{right} \\textbf{royal} &   0.937 \\\\\n",
      "                              \\textbf{damn} \\textbf{entertaining} \\textbf{and} \\textbf{thought} \\textbf{provoking} &   0.367 \\\\\n",
      "                                                        \\textbf{darkly} \\textbf{funny} \\textbf{and} \\textbf{oh} so &   0.321 \\\\\n",
      "                          \\textbf{seen} \\textbf{of} \\textbf{reflecting} \\textbf{how} \\textbf{it} \\textbf{feels} to &  -0.002 \\\\\n",
      "                                                                               a \\textbf{dismal} \\textbf{disaster} &  -0.186 \\\\\n",
      "                                         a \\textbf{dull} \\textbf{show} \\textbf{of} \\textbf{falling} \\textbf{apart} &  -0.358 \\\\\n",
      "                 \\textbf{kill} \\textbf{coming} \\textbf{off} \\textbf{as} \\textbf{hokey} \\textbf{and} \\textbf{jokey} &  -0.421 \\\\\n",
      "                                       a \\textbf{goat} \\textbf{separated} \\textbf{from} \\textbf{its} \\textbf{herd} &  -0.470 \\\\\n",
      " \\textbf{fluff} \\textbf{trying} \\textbf{to} \\textbf{capitalize} \\textbf{on} \\textbf{past} \\textbf{accomplishments} &  -0.608 \\\\\n",
      "            \\textbf{part} \\textbf{thuddingly} \\textbf{unfunny} \\textbf{and} \\textbf{ultimately} \\textbf{obnoxious} &  -0.674 \\\\\n",
      "\\bottomrule\n",
      "\\end{tabular}\n",
      "\n"
     ]
    },
    {
     "data": {
      "text/plain": "<IPython.core.display.HTML object>",
      "text/html": "<h1>rottentomatoes 1</h1>"
     },
     "metadata": {},
     "output_type": "display_data"
    },
    {
     "name": "stdout",
     "output_type": "stream",
     "text": [
      "\\begin{tabular}{lr}\n",
      "\\toprule\n",
      "                                                                                                          Prototype &  Weight \\\\\n",
      "\\midrule\n",
      "                                      a \\textbf{smart} \\textbf{clever} \\textbf{movie} \\textbf{with} \\textbf{strong} &   0.635 \\\\\n",
      "                                                       this is \\textbf{entertaining} \\textbf{escapist} \\textbf{fun} &   0.609 \\\\\n",
      "                                                           a \\textbf{thoughtful} \\textbf{moving} \\textbf{film} that &   0.404 \\\\\n",
      "                                                    but an \\textbf{absolutely} \\textbf{fascinating} \\textbf{milieu} &   0.173 \\\\\n",
      " \\textbf{conceived} \\textbf{inept} \\textbf{and} \\textbf{ridiculous} \\textbf{motion} \\textbf{pictures} \\textbf{ever} &  -0.048 \\\\\n",
      "                  \\textbf{dull} \\textbf{with} \\textbf{good} \\textbf{actors} \\textbf{in} \\textbf{bad} \\textbf{roles} &  -0.061 \\\\\n",
      "      \\textbf{batty} \\textbf{heist} \\textbf{gone} \\textbf{wrong} \\textbf{thriller} \\textbf{which} \\textbf{proceeds} &  -0.139 \\\\\n",
      "                                                                         that 's \\textbf{largely} \\textbf{terrible} &  -0.140 \\\\\n",
      "                                                                   \\textbf{moronic} \\textbf{and} \\textbf{insulting} &  -0.222 \\\\\n",
      "                                                           so \\textbf{irritating} \\textbf{and} \\textbf{pretentious} &  -0.319 \\\\\n",
      "                                                                   is \\textbf{tired} \\textbf{and} \\textbf{overdone} &  -0.324 \\\\\n",
      "                                                 \\textbf{painfully} \\textbf{long} \\textbf{and} \\textbf{repetitious} &  -0.468 \\\\\n",
      "               \\textbf{action} \\textbf{fails} \\textbf{to} \\textbf{excite} \\textbf{and} \\textbf{the} \\textbf{script} &  -0.532 \\\\\n",
      "\\bottomrule\n",
      "\\end{tabular}\n",
      "\n"
     ]
    },
    {
     "data": {
      "text/plain": "<IPython.core.display.HTML object>",
      "text/html": "<h1>rottentomatoes 2</h1>"
     },
     "metadata": {},
     "output_type": "display_data"
    },
    {
     "name": "stdout",
     "output_type": "stream",
     "text": [
      "\\begin{tabular}{lr}\n",
      "\\toprule\n",
      "                                                                                                     Prototype &  Weight \\\\\n",
      "\\midrule\n",
      "                                                                             a \\textbf{zesty} \\textbf{tale} of &   0.880 \\\\\n",
      "                                                                        a \\textbf{gentle} \\textbf{comedy} that &   0.527 \\\\\n",
      "                                                  this is \\textbf{entertaining} \\textbf{escapist} \\textbf{fun} &   0.168 \\\\\n",
      "                                                        the only \\textbf{thing} \\textbf{more} \\textbf{grating} &  -0.158 \\\\\n",
      " \\textbf{protagonist} \\textbf{instead} \\textbf{ends} \\textbf{up} \\textbf{being} \\textbf{a} \\textbf{convoluted} &  -0.222 \\\\\n",
      "                                                     at just over \\textbf{two} \\textbf{hours} \\textbf{much} of &  -0.222 \\\\\n",
      "            \\textbf{device} \\textbf{it} \\textbf{makes} \\textbf{them} \\textbf{both} \\textbf{seem} \\textbf{fake} &  -0.246 \\\\\n",
      "      \\textbf{crude} \\textbf{and} \\textbf{unfunny} \\textbf{set} \\textbf{ups} \\textbf{really} \\textbf{prevents} &  -0.263 \\\\\n",
      "                                       the \\textbf{cinematic} \\textbf{equivalent} \\textbf{of} \\textbf{getting} &  -0.269 \\\\\n",
      "                                         \\textbf{well} \\textbf{be} \\textbf{the} \\textbf{most} \\textbf{tedious} &  -0.290 \\\\\n",
      "                                                                   this is a \\textbf{soulless} \\textbf{sequel} &  -0.728 \\\\\n",
      "\\bottomrule\n",
      "\\end{tabular}\n",
      "\n"
     ]
    },
    {
     "data": {
      "text/plain": "<IPython.core.display.HTML object>",
      "text/html": "<h1>rottentomatoes 3</h1>"
     },
     "metadata": {},
     "output_type": "display_data"
    },
    {
     "name": "stdout",
     "output_type": "stream",
     "text": [
      "\\begin{tabular}{lr}\n",
      "\\toprule\n",
      "                                                                                             Prototype &  Weight \\\\\n",
      "\\midrule\n",
      "                                                          an \\textbf{entertaining} \\textbf{rethink} of &   1.078 \\\\\n",
      " \\textbf{build} \\textbf{it} \\textbf{works} \\textbf{successfully} \\textbf{as} \\textbf{a} \\textbf{human} &   0.811 \\\\\n",
      "                 \\textbf{remain} \\textbf{one} \\textbf{of} \\textbf{the} \\textbf{best} \\textbf{films} of &  -0.002 \\\\\n",
      "                  the \\textbf{new} \\textbf{blood} \\textbf{as} \\textbf{well} \\textbf{as} \\textbf{could} &  -0.104 \\\\\n",
      "                     is a \\textbf{dull} \\textbf{and} \\textbf{plodding} \\textbf{affair} \\textbf{devoid} &  -0.200 \\\\\n",
      "                              but \\textbf{nevertheless} \\textbf{it} \\textbf{'s} \\textbf{underwhelming} &  -0.774 \\\\\n",
      "    \\textbf{ultimately} \\textbf{lacking} \\textbf{in} \\textbf{every} \\textbf{other} \\textbf{department} &  -1.663 \\\\\n",
      "\\bottomrule\n",
      "\\end{tabular}\n",
      "\n"
     ]
    },
    {
     "data": {
      "text/plain": "<IPython.core.display.HTML object>",
      "text/html": "<h1>rottentomatoes 4</h1>"
     },
     "metadata": {},
     "output_type": "display_data"
    },
    {
     "name": "stdout",
     "output_type": "stream",
     "text": [
      "\\begin{tabular}{lr}\n",
      "\\toprule\n",
      "                                                                                             Prototype &  Weight \\\\\n",
      "\\midrule\n",
      "                   's a \\textbf{carefully} \\textbf{crafted} \\textbf{dance} \\textbf{of} \\textbf{nuance} &   0.573 \\\\\n",
      "                                              a \\textbf{haunting} \\textbf{stylised} \\textbf{portrayal} &   0.453 \\\\\n",
      "                                           a \\textbf{surprisingly} \\textbf{engrossing} \\textbf{behind} &   0.251 \\\\\n",
      "                               is \\textbf{smart} \\textbf{and} \\textbf{funny} \\textbf{as} \\textbf{well} &   0.225 \\\\\n",
      "                             \\textbf{filled} \\textbf{with} \\textbf{good} \\textbf{hearted} \\textbf{fun} &   0.175 \\\\\n",
      "           it 's \\textbf{also} \\textbf{highly} \\textbf{watchable} \\textbf{and} \\textbf{simultaneously} &   0.097 \\\\\n",
      "           a \\textbf{monster} \\textbf{calls} \\textbf{is} \\textbf{a} \\textbf{beautiful} \\textbf{coming} &   0.030 \\\\\n",
      " \\textbf{commentary} \\textbf{is} \\textbf{only} \\textbf{ostensibly} \\textbf{about} \\textbf{politics} it &  -0.020 \\\\\n",
      "                                                                     's just so \\textbf{disappointing} &  -0.210 \\\\\n",
      "                                                         it 's \\textbf{hopelessly} \\textbf{strung} out &  -0.436 \\\\\n",
      "                   \\textbf{almost} \\textbf{deliberately} \\textbf{stripped} \\textbf{of} \\textbf{humour} &  -0.506 \\\\\n",
      "             but \\textbf{outlaw} \\textbf{king} \\textbf{is} \\textbf{a} \\textbf{moribund} \\textbf{piece} &  -0.512 \\\\\n",
      "\\bottomrule\n",
      "\\end{tabular}\n",
      "\n"
     ]
    },
    {
     "data": {
      "text/plain": "<IPython.core.display.HTML object>",
      "text/html": "<h1>hotel 0</h1>"
     },
     "metadata": {},
     "output_type": "display_data"
    },
    {
     "name": "stdout",
     "output_type": "stream",
     "text": [
      "\\begin{tabular}{lr}\n",
      "\\toprule\n",
      "                                                                                                Prototype &  Weight \\\\\n",
      "\\midrule\n",
      "                         very \\textbf{clean} \\textbf{with} \\textbf{lots} \\textbf{of} \\textbf{sunbeds} and &   0.721 \\\\\n",
      "                  they are \\textbf{good} \\textbf{at} \\textbf{keeping} \\textbf{everything} \\textbf{nicely} &   0.605 \\\\\n",
      "                                            with \\textbf{chanel} \\textbf{our} \\textbf{new} \\textbf{puppy} &   0.477 \\\\\n",
      "      \\textbf{amazing} \\textbf{food} \\textbf{and} \\textbf{sites} \\textbf{to} \\textbf{visit} \\textbf{dear} &   0.438 \\\\\n",
      "      \\textbf{able} \\textbf{to} \\textbf{retrieve} \\textbf{my} \\textbf{beach} \\textbf{chairs} \\textbf{etc} &   0.362 \\\\\n",
      "                            will were \\textbf{clean} \\textbf{and} \\textbf{very} \\textbf{comfortable} .... &   0.243 \\\\\n",
      "                      they 're \\textbf{doggie} \\textbf{friendly} \\textbf{which} \\textbf{is} \\textbf{cute} &   0.194 \\\\\n",
      "                                                     this \\textbf{hotel} \\textbf{almost} \\textbf{exactly} &   0.054 \\\\\n",
      "         \\textbf{booked} \\textbf{at} \\textbf{the} \\textbf{annex} \\textbf{which} \\textbf{is} \\textbf{next} &   0.042 \\\\\n",
      "  \\textbf{garbage} \\textbf{cans} \\textbf{were} \\textbf{finally} \\textbf{put} \\textbf{in} \\textbf{hallway} &  -0.287 \\\\\n",
      "               and \\textbf{left} \\textbf{a} \\textbf{flurry} \\textbf{of} \\textbf{lint} \\textbf{everywhere} &  -0.340 \\\\\n",
      " \\textbf{handicap} \\textbf{room} \\textbf{with} \\textbf{no} \\textbf{attempts} \\textbf{to} \\textbf{recover} &  -0.380 \\\\\n",
      "               \\textbf{car} \\textbf{rooms} \\textbf{are} \\textbf{tired} \\textbf{floors} \\textbf{creak} and &  -0.489 \\\\\n",
      "                       what the \\textbf{name} \\textbf{implies} \\textbf{an} \\textbf{old} \\textbf{roadside} &  -0.494 \\\\\n",
      "              the \\textbf{room} \\textbf{smelled} \\textbf{musty} \\textbf{and} \\textbf{the} \\textbf{carpet} &  -0.582 \\\\\n",
      "                                                we had the do \\textbf{not} \\textbf{disturb} \\textbf{sign} &  -0.630 \\\\\n",
      "\\bottomrule\n",
      "\\end{tabular}\n",
      "\n"
     ]
    },
    {
     "data": {
      "text/plain": "<IPython.core.display.HTML object>",
      "text/html": "<h1>hotel 1</h1>"
     },
     "metadata": {},
     "output_type": "display_data"
    },
    {
     "name": "stdout",
     "output_type": "stream",
     "text": [
      "\\begin{tabular}{lr}\n",
      "\\toprule\n",
      "                                                                                                      Prototype &  Weight \\\\\n",
      "\\midrule\n",
      "                               and they had \\textbf{homemade} \\textbf{chocolate} \\textbf{chip} \\textbf{cookies} &   1.042 \\\\\n",
      "                   and \\textbf{quiet} \\textbf{the} \\textbf{bed} \\textbf{was} \\textbf{very} \\textbf{comfortable} &   0.827 \\\\\n",
      "                                                          a \\textbf{beautiful} \\textbf{historic} \\textbf{hotel} &   0.634 \\\\\n",
      "                                                                  very \\textbf{pleasant} \\textbf{stay} here the &   0.453 \\\\\n",
      "         \\textbf{lit} \\textbf{candle} \\textbf{the} \\textbf{mariachi} \\textbf{guys} \\textbf{sang} \\textbf{happy} &   0.404 \\\\\n",
      "        \\textbf{currency} \\textbf{first} \\textbf{and} \\textbf{this} \\textbf{created} \\textbf{a} \\textbf{slight} &   0.296 \\\\\n",
      "                       some \\textbf{upgrading} \\textbf{to} \\textbf{our} \\textbf{business} \\textbf{center} doing &   0.145 \\\\\n",
      "                   and \\textbf{pillows} \\textbf{imho} \\textbf{great} \\textbf{value} \\textbf{for} \\textbf{price} &   0.087 \\\\\n",
      "                                             the \\textbf{shallow} \\textbf{depth} \\textbf{4} \\textbf{feet} i was &   0.029 \\\\\n",
      "                  \\textbf{store} \\textbf{in} \\textbf{the} \\textbf{mall} \\textbf{it} \\textbf{'s} \\textbf{really} &   0.027 \\\\\n",
      "                  \\textbf{look} \\textbf{for} \\textbf{an} \\textbf{embassy} \\textbf{suites} \\textbf{everywhere} i &  -0.030 \\\\\n",
      "                                                      a few more \\textbf{windows} \\textbf{room} \\textbf{16} had &  -0.085 \\\\\n",
      "              \\textbf{leave} \\textbf{1} \\textbf{bottle} \\textbf{of} \\textbf{water} \\textbf{per} \\textbf{day.no} &  -0.151 \\\\\n",
      " \\textbf{needs} \\textbf{maintenance} \\textbf{appearing} \\textbf{more} \\textbf{like} \\textbf{a} \\textbf{highway} &  -0.306 \\\\\n",
      "          \\textbf{reached} \\textbf{our} \\textbf{floor} \\textbf{it} \\textbf{smelled} \\textbf{like} \\textbf{mold} &  -0.606 \\\\\n",
      "                  \\textbf{gloomy} \\textbf{our} \\textbf{sink} \\textbf{stopper} \\textbf{was} \\textbf{broke} which &  -0.892 \\\\\n",
      "     \\textbf{smelled} \\textbf{weird} \\textbf{elevator} \\textbf{squeaked} \\textbf{all} \\textbf{the} \\textbf{way} &  -0.921 \\\\\n",
      "\\bottomrule\n",
      "\\end{tabular}\n",
      "\n"
     ]
    },
    {
     "data": {
      "text/plain": "<IPython.core.display.HTML object>",
      "text/html": "<h1>hotel 2</h1>"
     },
     "metadata": {},
     "output_type": "display_data"
    },
    {
     "name": "stdout",
     "output_type": "stream",
     "text": [
      "\\begin{tabular}{lr}\n",
      "\\toprule\n",
      "                                                                                                   Prototype &  Weight \\\\\n",
      "\\midrule\n",
      "                                                                            \\textbf{great} \\textbf{hotel} in &   0.807 \\\\\n",
      "      \\textbf{area} \\textbf{the} \\textbf{showers} \\textbf{and} \\textbf{little} \\textbf{lounge} \\textbf{area} &   0.738 \\\\\n",
      "                                                                              \\textbf{great} \\textbf{stay} i &   0.647 \\\\\n",
      "                         have \\textbf{always} \\textbf{enjoyed} \\textbf{staying} \\textbf{here} \\textbf{clean} &   0.563 \\\\\n",
      "                                                     had a \\textbf{wonderful} \\textbf{time} \\textbf{staying} &   0.282 \\\\\n",
      "                                               all a \\textbf{great} \\textbf{place} \\textbf{to} \\textbf{stay} &   0.150 \\\\\n",
      "                                a few \\textbf{days} \\textbf{in} \\textbf{napa} \\textbf{valley} \\textbf{found} &   0.136 \\\\\n",
      "                                                                      \\textbf{went} \\textbf{to} \\textbf{san} &   0.091 \\\\\n",
      "                                                                               i \\textbf{'ll} \\textbf{start} &   0.032 \\\\\n",
      "                                                               our \\textbf{room} \\textbf{was} \\textbf{quite} &   0.022 \\\\\n",
      "      \\textbf{eagles} \\textbf{we} \\textbf{walked} \\textbf{around} \\textbf{the} \\textbf{city} \\textbf{popped} &  -0.033 \\\\\n",
      "                  our \\textbf{last} \\textbf{visit} \\textbf{on} \\textbf{8/9/15} \\textbf{when} \\textbf{thelma} &  -0.145 \\\\\n",
      "                                                                            i \\textbf{'ve} \\textbf{actually} &  -0.151 \\\\\n",
      "                                                                  will \\textbf{never} \\textbf{stay} ... more &  -0.320 \\\\\n",
      "                     \\textbf{dirty} \\textbf{no} \\textbf{air} \\textbf{conditioner} \\textbf{a} \\textbf{fan} is &  -0.408 \\\\\n",
      " \\textbf{n't} \\textbf{happen} \\textbf{again} \\textbf{sorry} \\textbf{for} \\textbf{this} \\textbf{inconvinence} &  -0.674 \\\\\n",
      "                                        the \\textbf{rooms} \\textbf{are} \\textbf{terribly} \\textbf{dated} and &  -0.737 \\\\\n",
      "   \\textbf{chose} \\textbf{it} \\textbf{over} \\textbf{several} \\textbf{competing} \\textbf{hotels} \\textbf{due} &  -0.941 \\\\\n",
      "\\bottomrule\n",
      "\\end{tabular}\n",
      "\n"
     ]
    },
    {
     "data": {
      "text/plain": "<IPython.core.display.HTML object>",
      "text/html": "<h1>hotel 3</h1>"
     },
     "metadata": {},
     "output_type": "display_data"
    },
    {
     "name": "stdout",
     "output_type": "stream",
     "text": [
      "\\begin{tabular}{lr}\n",
      "\\toprule\n",
      "                                                                                                           Prototype &  Weight \\\\\n",
      "\\midrule\n",
      " \\textbf{welcoming} \\textbf{you} \\textbf{back} \\textbf{soon} \\textbf{sincerely} \\textbf{alex} \\textbf{blancogeneral} &   0.762 \\\\\n",
      "       \\textbf{many} \\textbf{family} \\textbf{members} \\textbf{attending} \\textbf{a} \\textbf{family} \\textbf{reunion} &   0.696 \\\\\n",
      "                   \\textbf{future} \\textbf{until} \\textbf{then} \\textbf{happy} \\textbf{travels!sarah} \\textbf{junge} &   0.581 \\\\\n",
      "                                                                                           this was a \\textbf{great} &   0.381 \\\\\n",
      "                                                \\textbf{next} \\textbf{2} \\textbf{weeks} \\textbf{spoke} with ... more &   0.031 \\\\\n",
      "                                                     the \\textbf{room} \\textbf{was} \\textbf{very} \\textbf{clean} but &   0.016 \\\\\n",
      "                                    in my \\textbf{computer} \\textbf{calendar} \\textbf{for} \\textbf{feb} \\textbf{9th} &  -0.036 \\\\\n",
      "              \\textbf{lobby} \\textbf{where} \\textbf{you} \\textbf{'re} \\textbf{greeted} \\textbf{by} \\textbf{friendly} &  -0.111 \\\\\n",
      " \\textbf{scheduled} \\textbf{inspections} \\textbf{by} \\textbf{a} \\textbf{professional} \\textbf{pest} \\textbf{control} &  -0.112 \\\\\n",
      "             \\textbf{garbage} \\textbf{cans} \\textbf{were} \\textbf{finally} \\textbf{put} \\textbf{in} \\textbf{hallway} &  -0.370 \\\\\n",
      "                               there so \\textbf{not} \\textbf{sure} \\textbf{why} \\textbf{parking} \\textbf{securities} &  -0.569 \\\\\n",
      "              \\textbf{airconditioner} \\textbf{in} \\textbf{the} \\textbf{room} \\textbf{did} \\textbf{not} \\textbf{work} &  -0.605 \\\\\n",
      "                                        because our \\textbf{air} \\textbf{conditioner} \\textbf{was} \\textbf{shut} off &  -0.707 \\\\\n",
      "          \\textbf{bathroom} \\textbf{was} \\textbf{n't} \\textbf{cleaned} \\textbf{every} \\textbf{day} \\textbf{although} &  -0.912 \\\\\n",
      "\\bottomrule\n",
      "\\end{tabular}\n",
      "\n"
     ]
    },
    {
     "data": {
      "text/plain": "<IPython.core.display.HTML object>",
      "text/html": "<h1>hotel 4</h1>"
     },
     "metadata": {},
     "output_type": "display_data"
    },
    {
     "name": "stdout",
     "output_type": "stream",
     "text": [
      "\\begin{tabular}{lr}\n",
      "\\toprule\n",
      "                                                                                                        Prototype &  Weight \\\\\n",
      "\\midrule\n",
      "                   very \\textbf{convienent} \\textbf{to} \\textbf{the} \\textbf{turner} \\textbf{falls} \\textbf{park} &   0.940 \\\\\n",
      "                          the very \\textbf{warm} \\textbf{welcome} \\textbf{and} \\textbf{service} \\textbf{provided} &   0.912 \\\\\n",
      "                     and \\textbf{everyone} \\textbf{was} \\textbf{very} \\textbf{nice} \\textbf{and} \\textbf{helpful} &   0.735 \\\\\n",
      " \\textbf{immediately} \\textbf{the} \\textbf{concierge} \\textbf{lounge} \\textbf{was} \\textbf{well} \\textbf{staffed} &   0.619 \\\\\n",
      "                           your \\textbf{toiletries} \\textbf{on} \\textbf{the} \\textbf{bathroom} \\textbf{space} was &   0.193 \\\\\n",
      "    \\textbf{attending} \\textbf{the} \\textbf{international} \\textbf{rotary} \\textbf{convention} \\textbf{sorry} for &   0.185 \\\\\n",
      "                                         in for the \\textbf{trip} \\textbf{home} \\textbf{fully} \\textbf{expecting} &   0.097 \\\\\n",
      "                  \\textbf{suitable} \\textbf{size} \\textbf{or} \\textbf{height} \\textbf{for} \\textbf{eating} should &   0.006 \\\\\n",
      "                                          an \\textbf{update} \\textbf{now} \\textbf{i} \\textbf{understand} why such &  -0.007 \\\\\n",
      "                                \\textbf{able} \\textbf{to} \\textbf{use} \\textbf{the} \\textbf{elevators} with their &  -0.008 \\\\\n",
      "      \\textbf{worker} \\textbf{in} \\textbf{charge} \\textbf{of} \\textbf{breakfast} \\textbf{rudely} \\textbf{snapped} &  -0.426 \\\\\n",
      "                             this \\textbf{place} \\textbf{is} \\textbf{the} \\textbf{place} \\textbf{of} \\textbf{bad} &  -0.513 \\\\\n",
      "             my \\textbf{apologies} \\textbf{for} \\textbf{not} \\textbf{meeting} \\textbf{your} \\textbf{expectations} &  -0.592 \\\\\n",
      "                        a \\textbf{fridge} \\textbf{the} \\textbf{outlets} \\textbf{were} \\textbf{very} \\textbf{poor} &  -0.632 \\\\\n",
      "                     \\textbf{siren} \\textbf{that} \\textbf{went} \\textbf{by} \\textbf{not} \\textbf{a} \\textbf{poor} &  -0.668 \\\\\n",
      "                                        did \\textbf{not} \\textbf{work} \\textbf{will} \\textbf{not} \\textbf{return} &  -0.748 \\\\\n",
      "\\bottomrule\n",
      "\\end{tabular}\n",
      "\n"
     ]
    }
   ],
   "source": [
    "from nltk.corpus import stopwords\n",
    "\n",
    "import string\n",
    "import pandas as pd\n",
    "\n",
    "pd.set_option('display.max_rows', 110)\n",
    "pd.set_option('display.max_colwidth', 500)\n",
    "\n",
    "for dataset, experiment_id in experiments_7gram.items():\n",
    "\n",
    "    for fold_id in range(5):\n",
    "        #\n",
    "        # if dataset!='imdb' or fold_id!=2:\n",
    "        #     continue\n",
    "\n",
    "        plot_html(f'<h1>{dataset} {fold_id}</h1>')\n",
    "        stopwords.words('english')\n",
    "        prototypes_words = []\n",
    "\n",
    "        comet_connector.set_experiment(experiment_id, fold=fold_id)\n",
    "        comet_connector.get_model()\n",
    "\n",
    "        model = comet_connector.model\n",
    "        model.cuda()\n",
    "        model.eval()\n",
    "        model.conv1.conv1.padding = 0\n",
    "\n",
    "        data_visualizer = DataVisualizer(model)\n",
    "\n",
    "        words_matrix = model.prototype_tokens.tolist()\n",
    "        prototypes_id_tokens_to_extend = []\n",
    "\n",
    "        stoi = comet_connector.TEXT.vocab.stoi\n",
    "        itos = comet_connector.TEXT.vocab.itos\n",
    "\n",
    "        words_remove = [w for w in stopwords.words('english') + [\"'m\", \"'re\", \"'s\", '..', '...', '....'] + list(string.punctuation) if w not in ['not', \"don't\", 'aren', \"aren't\", 'couldn', \"couldn't\", 'didn', \"didn't\", 'doesn', \"doesn't\", 'hadn', \"hadn't\", 'hasn', \"hasn't\", 'haven', \"haven't\", 'isn', \"isn't\",  'mightn', \"mightn't\", 'mustn', \"mustn't\", 'needn', \"needn't\", 'shan', \"shan't\",  'shouldn', \"shouldn't\", 'wasn', \"wasn't\", 'weren', \"weren't\", 'won', \"won't\",   'wouldn', \"wouldn't\"]]\n",
    "        df_data = []\n",
    "        for proto_id, tokens_list in enumerate(words_matrix):\n",
    "            if model.enabled_prototypes_mask[proto_id].tolist() == 0:\n",
    "                continue\n",
    "\n",
    "            words = [itos[int(token)] for token in tokens_list]\n",
    "            words = [w for w in words if w not in ['<START>', '<END>', '<pad>', '/><br', '<unk>']]\n",
    "            words = [w if w[:2] != '/>' else w[2:] for w in words]\n",
    "            words = [w.replace('<br','').replace('\\\\n', ' ').replace('  ',' ') for w in words]\n",
    "\n",
    "            indexes_remove = []\n",
    "            for i, w in enumerate(words):\n",
    "                if w in words_remove:\n",
    "                    indexes_remove.append(i)\n",
    "                else:\n",
    "                    break\n",
    "            for i, w in enumerate(reversed(words)):\n",
    "                if w in words_remove:\n",
    "                    indexes_remove.append(len(words)-1-i)\n",
    "                else:\n",
    "                    break\n",
    "\n",
    "            words = [w if i in indexes_remove else f'\\\\textbf{{{w}}}'\n",
    "                     for i, w in enumerate(words)]\n",
    "            phrase  = ' '.join(words)\n",
    "\n",
    "            df_data.append([phrase, data_visualizer.fc_weights[proto_id]])\n",
    "\n",
    "        df = pd.DataFrame(df_data,columns=['Prototype','Weight']).sort_values('Weight', ascending=False)\n",
    "        df['Weight'] = df['Weight'].round(3)\n",
    "        print(df.to_latex(index=False, escape=False))\n"
   ]
  },
  {
   "cell_type": "code",
   "execution_count": 3,
   "metadata": {
    "collapsed": true
   },
   "outputs": [],
   "source": []
  }
 ],
 "metadata": {
  "kernelspec": {
   "display_name": "Python 3",
   "language": "python",
   "name": "python3"
  },
  "language_info": {
   "codemirror_mode": {
    "name": "ipython",
    "version": 3
   },
   "file_extension": ".py",
   "mimetype": "text/x-python",
   "name": "python",
   "nbconvert_exporter": "python",
   "pygments_lexer": "ipython3",
   "version": "3.8.3"
  }
 },
 "nbformat": 4,
 "nbformat_minor": 1
}