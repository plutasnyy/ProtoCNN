{
 "cells": [
  {
   "cell_type": "code",
   "execution_count": 1,
   "outputs": [],
   "source": [
    "%reset -f\n",
    "%load_ext autoreload\n",
    "%autoreload 2"
   ],
   "metadata": {
    "collapsed": false,
    "pycharm": {
     "name": "#%%\n"
    }
   }
  },
  {
   "cell_type": "code",
   "execution_count": 2,
   "outputs": [
    {
     "name": "stderr",
     "output_type": "stream",
     "text": [
      "Global seed set to 0\n"
     ]
    },
    {
     "data": {
      "text/plain": "0"
     },
     "execution_count": 2,
     "metadata": {},
     "output_type": "execute_result"
    }
   ],
   "source": [
    "import warnings\n",
    "from configparser import ConfigParser\n",
    "\n",
    "import numpy as np\n",
    "import torch\n",
    "from easydict import EasyDict\n",
    "from pytorch_lightning import seed_everything\n",
    "from tqdm.contrib import tenumerate\n",
    "\n",
    "from models.protoconv.comet_connector import CometConnector\n",
    "\n",
    "warnings.simplefilter(\"ignore\")\n",
    "seed_everything(0)"
   ],
   "metadata": {
    "collapsed": false,
    "pycharm": {
     "name": "#%%\n"
    }
   }
  },
  {
   "cell_type": "code",
   "execution_count": 29,
   "outputs": [],
   "source": [
    "@torch.no_grad()\n",
    "def calc_decision_flips(model, val_loader, iterations=3):\n",
    "    context = model.conv_filter_size // 2\n",
    "    decision_flips = [0] * iterations\n",
    "    all_tests = 0\n",
    "\n",
    "    for batch_id, (text, label) in tenumerate(val_loader, total=len(val_loader)):\n",
    "        first_decision = model(text).logits.item() > 0\n",
    "        all_tests += 1\n",
    "\n",
    "        changed_flag = False\n",
    "\n",
    "        for test_id in range(iterations):\n",
    "            if changed_flag:\n",
    "                decision_flips[test_id] += 1\n",
    "            else:\n",
    "                output = model(text)\n",
    "                similarities = model.dist_to_sim['log'](output.min_distances.squeeze(0))\n",
    "                evidence = similarities * model.fc1.weight.squeeze(0)\n",
    "                sorting_indexes = np.argsort(evidence.tolist())\n",
    "                enabled_prototypes_indexes = [i for i in sorting_indexes if model.enabled_prototypes_mask[i]]\n",
    "\n",
    "                if first_decision:\n",
    "                    prototypes_to_remove = [i for i in enabled_prototypes_indexes[::-1] if evidence[i] > 0]\n",
    "                else:\n",
    "                    prototypes_to_remove = [i for i in enabled_prototypes_indexes if evidence[i] < 0]\n",
    "\n",
    "                for concept_to_remove in prototypes_to_remove:\n",
    "\n",
    "                    unk_in_text = 0\n",
    "                    for i in range(text.shape[1]):\n",
    "                        if text[0,i] == TEXT.vocab.stoi['<unk>']:\n",
    "                            unk_in_text+=1\n",
    "                    if unk_in_text + 4 >= text.shape[1]:\n",
    "                        break\n",
    "\n",
    "                    center = torch.argmin(output.distances[0, concept_to_remove]).item()\n",
    "                    for word_idx in range(center - context, center + context + 1):\n",
    "                        if 1 <= word_idx <= len(text[0]) - 2:  # dont remove start and stop:\n",
    "                            text[0, word_idx] = TEXT.vocab.stoi['<unk>']\n",
    "\n",
    "                    preds = model(text)\n",
    "                    decision = preds.logits.item() > 0\n",
    "\n",
    "                    if first_decision != decision:\n",
    "                        changed_flag = True\n",
    "                        decision_flips[test_id] += 1\n",
    "                        break\n",
    "    print(all_tests)\n",
    "    for test_id in range(iterations):\n",
    "        decision_flips[test_id] /= all_tests\n",
    "\n",
    "    return decision_flips"
   ],
   "metadata": {
    "collapsed": false,
    "pycharm": {
     "name": "#%%\n"
    }
   }
  },
  {
   "cell_type": "code",
   "execution_count": 30,
   "outputs": [
    {
     "name": "stderr",
     "output_type": "stream",
     "text": [
      "COMET INFO: Downloading experiment model 'fold_0_epoch=10-val_loss_0=0.3934-val_acc_0=0.8588.ckpt' ...\n",
      "COMET INFO: Unzipping model to 'checkpoints/' ...\n",
      "COMET INFO: done!\n"
     ]
    },
    {
     "data": {
      "text/plain": "HBox(children=(FloatProgress(value=0.0, max=5000.0), HTML(value='')))",
      "application/vnd.jupyter.widget-view+json": {
       "version_major": 2,
       "version_minor": 0,
       "model_id": "a68c86c288474ab8ac9d5a1176b5ccc4"
      }
     },
     "metadata": {},
     "output_type": "display_data"
    },
    {
     "name": "stdout",
     "output_type": "stream",
     "text": [
      "\n",
      "5000\n"
     ]
    },
    {
     "name": "stderr",
     "output_type": "stream",
     "text": [
      "COMET INFO: Downloading experiment model 'fold_0_epoch=05-val_loss_0=0.3417-val_acc_0=0.8853.ckpt' ...\n",
      "COMET INFO: Unzipping model to 'checkpoints/' ...\n",
      "COMET INFO: done!\n"
     ]
    },
    {
     "data": {
      "text/plain": "HBox(children=(FloatProgress(value=0.0, max=6000.0), HTML(value='')))",
      "application/vnd.jupyter.widget-view+json": {
       "version_major": 2,
       "version_minor": 0,
       "model_id": "bc9f7e5a423344d288df4636118c7a94"
      }
     },
     "metadata": {},
     "output_type": "display_data"
    },
    {
     "name": "stdout",
     "output_type": "stream",
     "text": [
      "\n",
      "6000\n"
     ]
    },
    {
     "name": "stderr",
     "output_type": "stream",
     "text": [
      "COMET INFO: Downloading experiment model 'fold_0_epoch=10-val_loss_0=0.4223-val_acc_0=0.8363.ckpt' ...\n",
      "COMET INFO: Unzipping model to 'checkpoints/' ...\n",
      "COMET INFO: done!\n"
     ]
    },
    {
     "data": {
      "text/plain": "HBox(children=(FloatProgress(value=0.0, max=6000.0), HTML(value='')))",
      "application/vnd.jupyter.widget-view+json": {
       "version_major": 2,
       "version_minor": 0,
       "model_id": "2cb841d1eee54753a04f967331d2f628"
      }
     },
     "metadata": {},
     "output_type": "display_data"
    },
    {
     "name": "stdout",
     "output_type": "stream",
     "text": [
      "\n",
      "6000\n"
     ]
    },
    {
     "name": "stderr",
     "output_type": "stream",
     "text": [
      "COMET INFO: Downloading experiment model 'fold_0_epoch=12-val_loss_0=0.6212-val_acc_0=0.7325.ckpt' ...\n",
      "COMET INFO: Unzipping model to 'checkpoints/' ...\n",
      "COMET INFO: done!\n"
     ]
    },
    {
     "data": {
      "text/plain": "HBox(children=(FloatProgress(value=0.0, max=6000.0), HTML(value='')))",
      "application/vnd.jupyter.widget-view+json": {
       "version_major": 2,
       "version_minor": 0,
       "model_id": "37fd6119b2794b9c867bed493e649ebd"
      }
     },
     "metadata": {},
     "output_type": "display_data"
    },
    {
     "name": "stdout",
     "output_type": "stream",
     "text": [
      "\n",
      "6000\n"
     ]
    },
    {
     "name": "stderr",
     "output_type": "stream",
     "text": [
      "COMET INFO: Downloading experiment model 'fold_0_epoch=14-val_loss_0=0.3432-val_acc_0=0.8979.ckpt' ...\n",
      "COMET INFO: Unzipping model to 'checkpoints/' ...\n",
      "COMET INFO: done!\n"
     ]
    },
    {
     "data": {
      "text/plain": "HBox(children=(FloatProgress(value=0.0, max=950.0), HTML(value='')))",
      "application/vnd.jupyter.widget-view+json": {
       "version_major": 2,
       "version_minor": 0,
       "model_id": "b32be8d8b2d1454b970f5168702328a2"
      }
     },
     "metadata": {},
     "output_type": "display_data"
    },
    {
     "name": "stdout",
     "output_type": "stream",
     "text": [
      "\n",
      "950\n"
     ]
    },
    {
     "ename": "AttributeError",
     "evalue": "'dict' object has no attribute 'head'",
     "output_type": "error",
     "traceback": [
      "\u001B[0;31m---------------------------------------------------------------------------\u001B[0m",
      "\u001B[0;31mAttributeError\u001B[0m                            Traceback (most recent call last)",
      "\u001B[0;32m<ipython-input-30-69c94b515be9>\u001B[0m in \u001B[0;36m<module>\u001B[0;34m\u001B[0m\n\u001B[1;32m     22\u001B[0m     \u001B[0mflips_per_ds\u001B[0m\u001B[0;34m[\u001B[0m\u001B[0mds_name\u001B[0m\u001B[0;34m]\u001B[0m \u001B[0;34m=\u001B[0m \u001B[0mcalc_decision_flips\u001B[0m\u001B[0;34m(\u001B[0m\u001B[0mmodel\u001B[0m\u001B[0;34m,\u001B[0m \u001B[0mval_loader\u001B[0m\u001B[0;34m,\u001B[0m \u001B[0miterations\u001B[0m\u001B[0;34m=\u001B[0m\u001B[0miterations\u001B[0m\u001B[0;34m)\u001B[0m\u001B[0;34m\u001B[0m\u001B[0m\n\u001B[1;32m     23\u001B[0m \u001B[0;34m\u001B[0m\u001B[0m\n\u001B[0;32m---> 24\u001B[0;31m \u001B[0mflips_per_ds\u001B[0m\u001B[0;34m.\u001B[0m\u001B[0mhead\u001B[0m\u001B[0;34m(\u001B[0m\u001B[0;34m)\u001B[0m\u001B[0;34m\u001B[0m\u001B[0m\n\u001B[0m\u001B[1;32m     25\u001B[0m \u001B[0;34m\u001B[0m\u001B[0m\n",
      "\u001B[0;31mAttributeError\u001B[0m: 'dict' object has no attribute 'head'"
     ]
    }
   ],
   "source": [
    "config = ConfigParser()\n",
    "config.read('../config.ini')\n",
    "comet_config = EasyDict(config['cometml'])\n",
    "commet_connector = CometConnector(comet_config.apikey, comet_config.projectname, comet_config.workspace, rel_path='..')\n",
    "\n",
    "experimetns_5gram = {\n",
    "    'imdb': 'abc1851dba1c46f28e16ddd90ec9c3e6',\n",
    "    'amazon': 'e81f6bb0081f459c8e5c2b42cae6a2ea',\n",
    "    'yelp': '26daecaeebd246a9ac9c14bdbafcc1fe',\n",
    "    'rottentomatoes': '6b4aef88e5144aa396f4eef98490e3a7',\n",
    "    'hotel': '9378a9ae08c64f96a2e6fabcdc33fa3c'\n",
    "}\n",
    "\n",
    "flips_per_ds={}\n",
    "iterations=5\n",
    "for ds_name, experiment_id in experimetns_5gram.items():\n",
    "    commet_connector.set_experiment(experiment_id, rel_path='..')\n",
    "    commet_connector.get_model()\n",
    "    model = commet_connector.model.cuda()\n",
    "    model.eval()\n",
    "    train_loader, val_loader, TEXT = commet_connector.train_loader, commet_connector.val_loader, commet_connector.TEXT\n",
    "    flips_per_ds[ds_name] = calc_decision_flips(model, val_loader, iterations=iterations)\n",
    "\n",
    "flips_per_ds"
   ],
   "metadata": {
    "collapsed": false,
    "pycharm": {
     "name": "#%%\n"
    }
   }
  },
  {
   "cell_type": "code",
   "execution_count": 5,
   "outputs": [],
   "source": [
    "import pandas as pd\n",
    "import seaborn as sns\n",
    "import matplotlib.pyplot as plt\n",
    "\n",
    "flips_col_name = 'Percentage of decisions changed'\n",
    "phrases_col_name = 'Number of iterations'\n",
    "dataset_col_name = 'Dataset'\n",
    "\n",
    "sns.set_style('whitegrid')\n",
    "sns.set_context('paper', font_scale=1.4)\n",
    "pd.set_option('display.max_rows', 110)"
   ],
   "metadata": {
    "collapsed": false,
    "pycharm": {
     "name": "#%%\n"
    }
   }
  },
  {
   "cell_type": "code",
   "execution_count": 32,
   "outputs": [
    {
     "data": {
      "text/plain": "  Dataset  Number of iterations  Percentage of decisions changed\n0    imdb                     1                           0.4502\n1    imdb                     2                           0.7656\n2    imdb                     3                           0.9152\n3    imdb                     4                           0.9690\n4    imdb                     5                           0.9880",
      "text/html": "<div>\n<style scoped>\n    .dataframe tbody tr th:only-of-type {\n        vertical-align: middle;\n    }\n\n    .dataframe tbody tr th {\n        vertical-align: top;\n    }\n\n    .dataframe thead th {\n        text-align: right;\n    }\n</style>\n<table border=\"1\" class=\"dataframe\">\n  <thead>\n    <tr style=\"text-align: right;\">\n      <th></th>\n      <th>Dataset</th>\n      <th>Number of iterations</th>\n      <th>Percentage of decisions changed</th>\n    </tr>\n  </thead>\n  <tbody>\n    <tr>\n      <th>0</th>\n      <td>imdb</td>\n      <td>1</td>\n      <td>0.4502</td>\n    </tr>\n    <tr>\n      <th>1</th>\n      <td>imdb</td>\n      <td>2</td>\n      <td>0.7656</td>\n    </tr>\n    <tr>\n      <th>2</th>\n      <td>imdb</td>\n      <td>3</td>\n      <td>0.9152</td>\n    </tr>\n    <tr>\n      <th>3</th>\n      <td>imdb</td>\n      <td>4</td>\n      <td>0.9690</td>\n    </tr>\n    <tr>\n      <th>4</th>\n      <td>imdb</td>\n      <td>5</td>\n      <td>0.9880</td>\n    </tr>\n  </tbody>\n</table>\n</div>"
     },
     "execution_count": 32,
     "metadata": {},
     "output_type": "execute_result"
    }
   ],
   "source": [
    "data = [[ds, prots,percent] for ds, flips in flips_per_ds.items() for prots, percent in zip(range(1, iterations+1), flips)]\n",
    "df = pd.DataFrame(data, columns=[dataset_col_name,phrases_col_name,flips_col_name])\n",
    "df.to_csv('fidelity_data.csv')\n",
    "df.head()\n"
   ],
   "metadata": {
    "collapsed": false,
    "pycharm": {
     "name": "#%%\n"
    }
   }
  },
  {
   "cell_type": "code",
   "execution_count": 39,
   "outputs": [
    {
     "data": {
      "text/plain": "<Figure size 864x252 with 1 Axes>",
      "image/png": "[encoded data removed]"
     },
     "metadata": {},
     "output_type": "display_data"
    }
   ],
   "source": [
    "plt.figure(figsize=(12,3.5))\n",
    "ax = sns.barplot(x=dataset_col_name, y=flips_col_name, hue=phrases_col_name, data=df, palette=sns.color_palette('tab10'))\n",
    "plt.ylim(0,1)\n",
    "plt.legend(title=phrases_col_name, bbox_to_anchor=(1.05, 1), loc='upper left', borderaxespad=0.)\n",
    "plt.show()\n",
    "plt.close()"
   ],
   "metadata": {
    "collapsed": false,
    "pycharm": {
     "name": "#%%\n"
    }
   }
  },
  {
   "cell_type": "code",
   "execution_count": 36,
   "outputs": [],
   "source": [
    "plt.figure(figsize=(12,3.5))\n",
    "ax = sns.barplot(x=dataset_col_name, y=flips_col_name, hue=phrases_col_name, data=df, palette=sns.color_palette('tab10'))\n",
    "plt.ylim(0,1)\n",
    "plt.legend(title=phrases_col_name, bbox_to_anchor=(1.05, 1), loc='upper left', borderaxespad=0.)\n",
    "plt.savefig('fidelity.png', bbox_inches='tight', dpi=300)\n",
    "plt.close()"
   ],
   "metadata": {
    "collapsed": false,
    "pycharm": {
     "name": "#%%\n"
    }
   }
  },
  {
   "cell_type": "markdown",
   "source": [
    "###  Line Plot\n"
   ],
   "metadata": {
    "collapsed": false,
    "pycharm": {
     "name": "#%% md\n"
    }
   }
  },
  {
   "cell_type": "code",
   "execution_count": 37,
   "outputs": [
    {
     "data": {
      "text/plain": "  Dataset  Number of iterations  Percentage of decisions changed\n0    imdb                     1                           0.4502\n1    imdb                     2                           0.7656\n2    imdb                     3                           0.9152\n3    imdb                     4                           0.9690\n4    imdb                     5                           0.9880",
      "text/html": "<div>\n<style scoped>\n    .dataframe tbody tr th:only-of-type {\n        vertical-align: middle;\n    }\n\n    .dataframe tbody tr th {\n        vertical-align: top;\n    }\n\n    .dataframe thead th {\n        text-align: right;\n    }\n</style>\n<table border=\"1\" class=\"dataframe\">\n  <thead>\n    <tr style=\"text-align: right;\">\n      <th></th>\n      <th>Dataset</th>\n      <th>Number of iterations</th>\n      <th>Percentage of decisions changed</th>\n    </tr>\n  </thead>\n  <tbody>\n    <tr>\n      <th>0</th>\n      <td>imdb</td>\n      <td>1</td>\n      <td>0.4502</td>\n    </tr>\n    <tr>\n      <th>1</th>\n      <td>imdb</td>\n      <td>2</td>\n      <td>0.7656</td>\n    </tr>\n    <tr>\n      <th>2</th>\n      <td>imdb</td>\n      <td>3</td>\n      <td>0.9152</td>\n    </tr>\n    <tr>\n      <th>3</th>\n      <td>imdb</td>\n      <td>4</td>\n      <td>0.9690</td>\n    </tr>\n    <tr>\n      <th>4</th>\n      <td>imdb</td>\n      <td>5</td>\n      <td>0.9880</td>\n    </tr>\n  </tbody>\n</table>\n</div>"
     },
     "execution_count": 37,
     "metadata": {},
     "output_type": "execute_result"
    }
   ],
   "source": [
    "zeros = [[ds, 0, 0] for ds, _ in flips_per_ds.items()]\n",
    "data2 = data + zeros\n",
    "df2 = pd.DataFrame(data2, columns=[dataset_col_name,phrases_col_name,flips_col_name])\n",
    "df2.to_csv('fidelity_lineplot_data.csv')\n",
    "df2.head()"
   ],
   "metadata": {
    "collapsed": false,
    "pycharm": {
     "name": "#%%\n"
    }
   }
  },
  {
   "cell_type": "code",
   "execution_count": 7,
   "outputs": [
    {
     "data": {
      "text/plain": "<Figure size 864x252 with 1 Axes>",
      "image/png": "[encoded data removed]"
     },
     "metadata": {},
     "output_type": "display_data"
    }
   ],
   "source": [
    "df2=pd.read_csv('fidelity_lineplot_data.csv')\n",
    "plt.figure(figsize=(12,3.5))\n",
    "sns.lineplot(x=phrases_col_name, y=flips_col_name, hue=dataset_col_name, data=df2, markers=True,dashes=False, style=dataset_col_name, linewidth=2, markersize=10)\n",
    "plt.ylim(0,1)\n",
    "plt.xlim(0,5.2)\n",
    "plt.legend(title=dataset_col_name, bbox_to_anchor=(1.05, 1), loc='upper left', borderaxespad=0.)\n",
    "plt.savefig('fidelity_line.png', bbox_inches='tight', dpi=300)\n",
    "\n"
   ],
   "metadata": {
    "collapsed": false,
    "pycharm": {
     "name": "#%%\n"
    }
   }
  },
  {
   "cell_type": "code",
   "execution_count": null,
   "outputs": [],
   "source": [],
   "metadata": {
    "collapsed": false,
    "pycharm": {
     "name": "#%%\n"
    }
   }
  }
 ],
 "metadata": {
  "kernelspec": {
   "display_name": "Python 3",
   "language": "python",
   "name": "python3"
  },
  "language_info": {
   "codemirror_mode": {
    "name": "ipython",
    "version": 2
   },
   "file_extension": ".py",
   "mimetype": "text/x-python",
   "name": "python",
   "nbconvert_exporter": "python",
   "pygments_lexer": "ipython2",
   "version": "2.7.6"
  }
 },
 "nbformat": 4,
 "nbformat_minor": 0
}