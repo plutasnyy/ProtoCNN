{
 "cells": [
  {
   "cell_type": "code",
   "execution_count": 1,
   "outputs": [],
   "source": [
    "%reset -f\n",
    "%load_ext autoreload\n",
    "%autoreload 2"
   ],
   "metadata": {
    "collapsed": false,
    "pycharm": {
     "name": "#%%\n"
    }
   }
  },
  {
   "cell_type": "code",
   "execution_count": 2,
   "outputs": [
    {
     "name": "stderr",
     "output_type": "stream",
     "text": [
      "Global seed set to 0\n"
     ]
    }
   ],
   "source": [
    "import warnings\n",
    "from configparser import ConfigParser\n",
    "\n",
    "from easydict import EasyDict\n",
    "from pytorch_lightning import seed_everything\n",
    "\n",
    "from models.protoconv.comet_connector import CometConnector\n",
    "from models.protoconv.data_visualizer import DataVisualizer\n",
    "from utils import plot_html\n",
    "\n",
    "warnings.simplefilter(\"ignore\")\n",
    "seed_everything(0)\n",
    "\n",
    "experiment_id = 'b64966c1e8eb48af900f606b70fcd006'\n",
    "weights_path = 'fold_0_epoch=07-val_loss_0=0.4531-val_acc_0=0.8115.ckpt'\n",
    "\n",
    "config = ConfigParser()\n",
    "config.read('config.ini')\n",
    "comet_config = EasyDict(config['cometml'])\n",
    "\n",
    "comet_connector = CometConnector(comet_config.apikey, comet_config.projectname, comet_config.workspace)\n",
    "comet_connector.set_experiment(experiment_id)\n",
    "comet_connector.get_model(weights_path)\n",
    "\n",
    "model = comet_connector.model.cuda()\n",
    "val_loader = comet_connector.val_loader\n",
    "\n",
    "data_visualizer = DataVisualizer(model)"
   ],
   "metadata": {
    "collapsed": false,
    "pycharm": {
     "name": "#%%\n"
    }
   }
  },
  {
   "cell_type": "code",
   "execution_count": 3,
   "outputs": [
    {
     "data": {
      "text/plain": "<IPython.core.display.HTML object>",
      "text/html": "<b>Prototype 1</b> (weight -1.085): friendly easy communicate<br><b>Prototype 2</b> (weight -0.584): also great customer<br><b>Prototype 3</b> (weight 0.840): place worst first<br><b>Prototype 4</b> (weight 0.518): asked wo n&#x27;t<br><b>Prototype 5</b> (weight 0.958): waste money taste<br><b>Prototype 6</b> (weight -0.357): fresh ingredients fantastic<br><b>Prototype 7</b> (weight -0.267): made relaxed friendly"
     },
     "metadata": {},
     "output_type": "display_data"
    }
   ],
   "source": [
    "plot_html(data_visualizer.visualize_prototypes())"
   ],
   "metadata": {
    "collapsed": false,
    "pycharm": {
     "name": "#%%\n"
    }
   }
  },
  {
   "cell_type": "code",
   "execution_count": 4,
   "outputs": [
    {
     "data": {
      "text/plain": "<IPython.core.display.HTML object>",
      "text/html": "<b>Example</b>: <START> <unk> vegas used live <unk> always clean staff friendly <unk> slurpees .... mmm ... <END> <br><br><b>Prediction</b>: 0, <b>True</b>: 0<br><br>Evidence for class 0:<br><table style=\"width:800px\"><tr><td><b>Input</b></td><td><b>Prototype</b></td><td><b>Similarity * Weight</b></td></tr><tr><td><span\">clean staff friendly </span> </td> <td> friendly easy communicate </td> <td>1.69 * 1.09 = <b>1.83</b></td></tr><tr><td><span\">friendly &lt;unk&gt; slurpees </span> </td> <td> also great customer </td> <td>2.99 * 0.58 = <b>1.75</b></td></tr><tr><td><span\">clean staff friendly </span> </td> <td> made relaxed friendly </td> <td>1.43 * 0.27 = <b>0.38</b></td></tr></table>Sum of evidence for class 0: <b>4.24</b><br><br>Evidence for class 1:<br><table style=\"width:800px\"><tr><td><b>Input</b></td><td><b>Prototype</b></td><td><b>Similarity * Weight</b></td></tr><tr><td><span\">live &lt;unk&gt; always </span> </td> <td> place worst first </td> <td>0.48 * 0.84 = <b>0.41</b></td></tr><tr><td><span\">.... mmm ... </span> </td> <td> asked wo n't </td> <td>0.75 * 0.52 = <b>0.39</b></td></tr><tr><td><span\">always clean staff </span> </td> <td> waste money taste </td> <td>0.29 * 0.96 = <b>0.28</b></td></tr></table>Sum of evidence for class 1: <b>1.07</b><br><br>=============================================<br><b>Example</b>: <START> many stores closed idea outlet 'll get better deal history get better deals even fancy fashion square patient look right time considering far ... save gas shop locally <END> <br><br><b>Prediction</b>: 1, <b>True</b>: 1<br><br>Evidence for class 0:<br><table style=\"width:800px\"><tr><td><b>Input</b></td><td><b>Prototype</b></td><td><b>Similarity * Weight</b></td></tr><tr><td><span\">even fancy fashion </span> </td> <td> friendly easy communicate </td> <td>0.94 * 1.09 = <b>1.02</b></td></tr><tr><td><span\">even fancy fashion </span> </td> <td> also great customer </td> <td>0.87 * 0.58 = <b>0.51</b></td></tr><tr><td><span\">gas shop locally </span> </td> <td> fresh ingredients fantastic </td> <td>0.46 * 0.36 = <b>0.16</b></td></tr></table>Sum of evidence for class 0: <b>1.84</b><br><br>Evidence for class 1:<br><table style=\"width:800px\"><tr><td><b>Input</b></td><td><b>Prototype</b></td><td><b>Similarity * Weight</b></td></tr><tr><td><span\">better deals even </span> </td> <td> place worst first </td> <td>1.51 * 0.84 = <b>1.27</b></td></tr><tr><td><span\">... save gas </span> </td> <td> asked wo n't </td> <td>1.64 * 0.52 = <b>0.85</b></td></tr><tr><td><span\">better deals even </span> </td> <td> waste money taste </td> <td>0.81 * 0.96 = <b>0.78</b></td></tr></table>Sum of evidence for class 1: <b>2.90</b><br><br>=============================================<br><b>Example</b>: <START> mouth watering thinking place best thai food around 've enjoyed every single meal 've ever eaten continue crave 've left service n't outstanding food best part keep coming back wo n't disappointed love good thai food highly recommend <END> <br><br><b>Prediction</b>: 0, <b>True</b>: 0<br><br>Evidence for class 0:<br><table style=\"width:800px\"><tr><td><b>Input</b></td><td><b>Prototype</b></td><td><b>Similarity * Weight</b></td></tr><tr><td><span\">service n&#x27;t outstanding </span> </td> <td> friendly easy communicate </td> <td>1.75 * 1.09 = <b>1.90</b></td></tr><tr><td><span\">n&#x27;t disappointed love </span> </td> <td> also great customer </td> <td>2.04 * 0.58 = <b>1.19</b></td></tr><tr><td><span\">outstanding food best </span> </td> <td> fresh ingredients fantastic </td> <td>1.94 * 0.36 = <b>0.69</b></td></tr></table>Sum of evidence for class 0: <b>4.27</b><br><br>Evidence for class 1:<br><table style=\"width:800px\"><tr><td><b>Input</b></td><td><b>Prototype</b></td><td><b>Similarity * Weight</b></td></tr><tr><td><span\">back wo n&#x27;t </span> </td> <td> place worst first </td> <td>1.89 * 0.84 = <b>1.59</b></td></tr><tr><td><span\">back wo n&#x27;t </span> </td> <td> asked wo n't </td> <td>1.92 * 0.52 = <b>1.00</b></td></tr><tr><td><span\">back wo n&#x27;t </span> </td> <td> waste money taste </td> <td>0.75 * 0.96 = <b>0.72</b></td></tr></table>Sum of evidence for class 1: <b>3.30</b><br><br>=============================================<br><b>Example</b>: <START> wanted check <unk> going friend 's house one night older friend mine used frequent place growing atmosphere patio indoor tables long bar center could appreciate bar since grown man \\n\\nthe music internet jukebox always love places like n't know much <unk> <unk> much bartenders young beautiful explains many married men left wives home \\n\\nthe inside back porch filled folks age well made friends brother place dropped old school <unk> kind shook older heads got would visit place poor man ca n't beat one dollar draft even natural light <END> <br><br><b>Prediction</b>: 1, <b>True</b>: 0<br><br>Evidence for class 0:<br><table style=\"width:800px\"><tr><td><b>Input</b></td><td><b>Prototype</b></td><td><b>Similarity * Weight</b></td></tr><tr><td><span\">always love places </span> </td> <td> friendly easy communicate </td> <td>1.80 * 1.09 = <b>1.95</b></td></tr><tr><td><span\">even natural light </span> </td> <td> also great customer </td> <td>2.39 * 0.58 = <b>1.39</b></td></tr><tr><td><span\">jukebox always love </span> </td> <td> fresh ingredients fantastic </td> <td>1.70 * 0.36 = <b>0.61</b></td></tr></table>Sum of evidence for class 0: <b>4.37</b><br><br>Evidence for class 1:<br><table style=\"width:800px\"><tr><td><b>Input</b></td><td><b>Prototype</b></td><td><b>Similarity * Weight</b></td></tr><tr><td><span\">visit place poor </span> </td> <td> waste money taste </td> <td>2.22 * 0.96 = <b>2.13</b></td></tr><tr><td><span\">poor man ca </span> </td> <td> asked wo n't </td> <td>2.35 * 0.52 = <b>1.22</b></td></tr><tr><td><span\">dropped old school </span> </td> <td> place worst first </td> <td>1.31 * 0.84 = <b>1.10</b></td></tr></table>Sum of evidence for class 1: <b>4.44</b><br><br>=============================================<br><b>Example</b>: <START> made reference crap caesar 's palace review delightful thai room explanation reference \\nour waiter atrocious real slime wife ordered margarita traditional choked half disgusting coconut mojito thought 'd try something different n't boring pepperoni pizza boring edible ish wife 's margherita revolting mess definition simple managed screw think starts using crap ingredients normally 's done fresh mozzarella must come bag costco would ok waiter bothered \\\"how everything?\\ trip back table food table long enough customer assessed fare take service training right course entitled <unk> tip percentages attention customer\\ ate mine went john number 1 number 2 simple drain shake washed hands returned table cleared email waited 10 minutes finally waiter decided time pay visit smooth \\\"how everything?\\ look dumb ass mine 's eaten wife 's one bite taken returned plate take freaking guess <unk> is\\ <unk> took us 30 mins get check manager 's swift intervention mention end offered bring something else kidding short roses krystal chanel gift card guys would better hiding <unk> better culinary offerings las vegas even caesar 's try fat tuesday 's better food better value give <unk> table <unk> <unk> <unk> <unk> pm <unk> server <unk> cashier <unk> guys wife already pissed sent moon <END> <br><br><b>Prediction</b>: 1, <b>True</b>: 1<br><br>Evidence for class 0:<br><table style=\"width:800px\"><tr><td><b>Input</b></td><td><b>Prototype</b></td><td><b>Similarity * Weight</b></td></tr><tr><td><span\">done fresh mozzarella </span> </td> <td> friendly easy communicate </td> <td>1.24 * 1.09 = <b>1.35</b></td></tr><tr><td><span\">&lt;unk&gt; better culinary </span> </td> <td> also great customer </td> <td>1.63 * 0.58 = <b>0.95</b></td></tr><tr><td><span\">delightful thai room </span> </td> <td> fresh ingredients fantastic </td> <td>1.53 * 0.36 = <b>0.54</b></td></tr></table>Sum of evidence for class 0: <b>3.18</b><br><br>Evidence for class 1:<br><table style=\"width:800px\"><tr><td><b>Input</b></td><td><b>Prototype</b></td><td><b>Similarity * Weight</b></td></tr><tr><td><span\">choked half disgusting </span> </td> <td> waste money taste </td> <td>2.43 * 0.96 = <b>2.33</b></td></tr><tr><td><span\">already pissed sent </span> </td> <td> place worst first </td> <td>2.32 * 0.84 = <b>1.95</b></td></tr><tr><td><span\">10 minutes finally </span> </td> <td> asked wo n't </td> <td>3.05 * 0.52 = <b>1.58</b></td></tr></table>Sum of evidence for class 1: <b>5.85</b><br><br>============================================="
     },
     "metadata": {},
     "output_type": "display_data"
    }
   ],
   "source": [
    "plot_html(data_visualizer.visualize_random_predictions(val_loader))\n"
   ],
   "metadata": {
    "collapsed": false,
    "pycharm": {
     "name": "#%%\n"
    }
   }
  }
 ],
 "metadata": {
  "kernelspec": {
   "display_name": "Python 3",
   "language": "python",
   "name": "python3"
  },
  "language_info": {
   "codemirror_mode": {
    "name": "ipython",
    "version": 2
   },
   "file_extension": ".py",
   "mimetype": "text/x-python",
   "name": "python",
   "nbconvert_exporter": "python",
   "pygments_lexer": "ipython2",
   "version": "2.7.6"
  }
 },
 "nbformat": 4,
 "nbformat_minor": 0
}