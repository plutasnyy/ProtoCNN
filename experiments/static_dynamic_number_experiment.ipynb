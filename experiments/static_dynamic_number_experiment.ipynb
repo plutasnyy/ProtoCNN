{
 "cells": [
  {
   "cell_type": "code",
   "execution_count": 2,
   "outputs": [
    {
     "data": {
      "text/plain": "         data_set  best_model_score_0  best_model_score_1  best_model_score_2  \\\n0  rottentomatoes             0.73350             0.73949             0.73949   \n1          amazon             0.88249             0.87400             0.88200   \n2           hotel             0.74947             0.67052             0.88736   \n3            imdb             0.85399             0.85659             0.84600   \n4  rottentomatoes             0.72583             0.73199             0.61400   \n\n   best_model_score_3  best_model_score_4  avg_saved_prototypes  \n0             0.66066             0.74395                    12  \n1             0.52816             0.87550                    12  \n2             0.76606             0.67017                     6  \n3             0.86119             0.77780                    12  \n4             0.57383             0.74229                     6  ",
      "text/html": "<div>\n<style scoped>\n    .dataframe tbody tr th:only-of-type {\n        vertical-align: middle;\n    }\n\n    .dataframe tbody tr th {\n        vertical-align: top;\n    }\n\n    .dataframe thead th {\n        text-align: right;\n    }\n</style>\n<table border=\"1\" class=\"dataframe\">\n  <thead>\n    <tr style=\"text-align: right;\">\n      <th></th>\n      <th>data_set</th>\n      <th>best_model_score_0</th>\n      <th>best_model_score_1</th>\n      <th>best_model_score_2</th>\n      <th>best_model_score_3</th>\n      <th>best_model_score_4</th>\n      <th>avg_saved_prototypes</th>\n    </tr>\n  </thead>\n  <tbody>\n    <tr>\n      <th>0</th>\n      <td>rottentomatoes</td>\n      <td>0.73350</td>\n      <td>0.73949</td>\n      <td>0.73949</td>\n      <td>0.66066</td>\n      <td>0.74395</td>\n      <td>12</td>\n    </tr>\n    <tr>\n      <th>1</th>\n      <td>amazon</td>\n      <td>0.88249</td>\n      <td>0.87400</td>\n      <td>0.88200</td>\n      <td>0.52816</td>\n      <td>0.87550</td>\n      <td>12</td>\n    </tr>\n    <tr>\n      <th>2</th>\n      <td>hotel</td>\n      <td>0.74947</td>\n      <td>0.67052</td>\n      <td>0.88736</td>\n      <td>0.76606</td>\n      <td>0.67017</td>\n      <td>6</td>\n    </tr>\n    <tr>\n      <th>3</th>\n      <td>imdb</td>\n      <td>0.85399</td>\n      <td>0.85659</td>\n      <td>0.84600</td>\n      <td>0.86119</td>\n      <td>0.77780</td>\n      <td>12</td>\n    </tr>\n    <tr>\n      <th>4</th>\n      <td>rottentomatoes</td>\n      <td>0.72583</td>\n      <td>0.73199</td>\n      <td>0.61400</td>\n      <td>0.57383</td>\n      <td>0.74229</td>\n      <td>6</td>\n    </tr>\n  </tbody>\n</table>\n</div>"
     },
     "execution_count": 2,
     "metadata": {},
     "output_type": "execute_result"
    }
   ],
   "source": [
    "import matplotlib\n",
    "import pandas as pd\n",
    "import seaborn as sns\n",
    "import matplotlib.pyplot as plt\n",
    "\n",
    "static_df = pd.read_csv('static_number_experiment.csv')\n",
    "static_df=static_df[['data_set', 'best_model_score_0', 'best_model_score_1', 'best_model_score_2', 'best_model_score_3', 'best_model_score_4','avg_saved_prototypes']]\n",
    "static_df.head()"
   ],
   "metadata": {
    "collapsed": false,
    "pycharm": {
     "name": "#%%\n"
    }
   }
  },
  {
   "cell_type": "code",
   "execution_count": 3,
   "outputs": [
    {
     "data": {
      "text/plain": "          dataset   n      acc\n0  rottentomatoes  12  0.73949\n1          amazon  12  0.87400\n2           hotel   6  0.67052\n3            imdb  12  0.85659\n4  rottentomatoes   6  0.73199",
      "text/html": "<div>\n<style scoped>\n    .dataframe tbody tr th:only-of-type {\n        vertical-align: middle;\n    }\n\n    .dataframe tbody tr th {\n        vertical-align: top;\n    }\n\n    .dataframe thead th {\n        text-align: right;\n    }\n</style>\n<table border=\"1\" class=\"dataframe\">\n  <thead>\n    <tr style=\"text-align: right;\">\n      <th></th>\n      <th>dataset</th>\n      <th>n</th>\n      <th>acc</th>\n    </tr>\n  </thead>\n  <tbody>\n    <tr>\n      <th>0</th>\n      <td>rottentomatoes</td>\n      <td>12</td>\n      <td>0.73949</td>\n    </tr>\n    <tr>\n      <th>1</th>\n      <td>amazon</td>\n      <td>12</td>\n      <td>0.87400</td>\n    </tr>\n    <tr>\n      <th>2</th>\n      <td>hotel</td>\n      <td>6</td>\n      <td>0.67052</td>\n    </tr>\n    <tr>\n      <th>3</th>\n      <td>imdb</td>\n      <td>12</td>\n      <td>0.85659</td>\n    </tr>\n    <tr>\n      <th>4</th>\n      <td>rottentomatoes</td>\n      <td>6</td>\n      <td>0.73199</td>\n    </tr>\n  </tbody>\n</table>\n</div>"
     },
     "execution_count": 3,
     "metadata": {},
     "output_type": "execute_result"
    }
   ],
   "source": [
    "static_df = pd.melt(static_df, id_vars=['data_set','avg_saved_prototypes'], value_vars=['best_model_score_1', 'best_model_score_2', 'best_model_score_3', 'best_model_score_4'])\n",
    "static_df.columns = ['dataset','n', 'variable', 'acc']\n",
    "static_df = static_df[['dataset','n', 'acc']]\n",
    "static_df.head()"
   ],
   "metadata": {
    "collapsed": false,
    "pycharm": {
     "name": "#%%\n"
    }
   }
  },
  {
   "cell_type": "code",
   "execution_count": 4,
   "outputs": [
    {
     "data": {
      "text/plain": "         data_set  best_model_score_0  best_model_score_1  best_model_score_2  \\\n0           hotel             0.89789             0.90736             0.89894   \n1  rottentomatoes             0.73250             0.73566             0.73299   \n2            yelp             0.83633             0.83399             0.82966   \n3          amazon             0.88533             0.88349             0.87650   \n4            imdb             0.85879             0.85159             0.84880   \n\n   best_model_score_3  best_model_score_4  number_of_prototypes_0  \\\n0             0.91464             0.89989                      23   \n1             0.73400             0.74195                       8   \n2             0.83999             0.83197                      10   \n3             0.88116             0.87316                       8   \n4             0.85219             0.85379                      10   \n\n   number_of_prototypes_1  number_of_prototypes_2  number_of_prototypes_3  \\\n0                      22                      23                      20   \n1                       9                      10                       8   \n2                      11                       7                       9   \n3                      14                      10                      11   \n4                      12                      10                       6   \n\n   number_of_prototypes_4  \n0                      21  \n1                      11  \n2                      11  \n3                       9  \n4                       9  ",
      "text/html": "<div>\n<style scoped>\n    .dataframe tbody tr th:only-of-type {\n        vertical-align: middle;\n    }\n\n    .dataframe tbody tr th {\n        vertical-align: top;\n    }\n\n    .dataframe thead th {\n        text-align: right;\n    }\n</style>\n<table border=\"1\" class=\"dataframe\">\n  <thead>\n    <tr style=\"text-align: right;\">\n      <th></th>\n      <th>data_set</th>\n      <th>best_model_score_0</th>\n      <th>best_model_score_1</th>\n      <th>best_model_score_2</th>\n      <th>best_model_score_3</th>\n      <th>best_model_score_4</th>\n      <th>number_of_prototypes_0</th>\n      <th>number_of_prototypes_1</th>\n      <th>number_of_prototypes_2</th>\n      <th>number_of_prototypes_3</th>\n      <th>number_of_prototypes_4</th>\n    </tr>\n  </thead>\n  <tbody>\n    <tr>\n      <th>0</th>\n      <td>hotel</td>\n      <td>0.89789</td>\n      <td>0.90736</td>\n      <td>0.89894</td>\n      <td>0.91464</td>\n      <td>0.89989</td>\n      <td>23</td>\n      <td>22</td>\n      <td>23</td>\n      <td>20</td>\n      <td>21</td>\n    </tr>\n    <tr>\n      <th>1</th>\n      <td>rottentomatoes</td>\n      <td>0.73250</td>\n      <td>0.73566</td>\n      <td>0.73299</td>\n      <td>0.73400</td>\n      <td>0.74195</td>\n      <td>8</td>\n      <td>9</td>\n      <td>10</td>\n      <td>8</td>\n      <td>11</td>\n    </tr>\n    <tr>\n      <th>2</th>\n      <td>yelp</td>\n      <td>0.83633</td>\n      <td>0.83399</td>\n      <td>0.82966</td>\n      <td>0.83999</td>\n      <td>0.83197</td>\n      <td>10</td>\n      <td>11</td>\n      <td>7</td>\n      <td>9</td>\n      <td>11</td>\n    </tr>\n    <tr>\n      <th>3</th>\n      <td>amazon</td>\n      <td>0.88533</td>\n      <td>0.88349</td>\n      <td>0.87650</td>\n      <td>0.88116</td>\n      <td>0.87316</td>\n      <td>8</td>\n      <td>14</td>\n      <td>10</td>\n      <td>11</td>\n      <td>9</td>\n    </tr>\n    <tr>\n      <th>4</th>\n      <td>imdb</td>\n      <td>0.85879</td>\n      <td>0.85159</td>\n      <td>0.84880</td>\n      <td>0.85219</td>\n      <td>0.85379</td>\n      <td>10</td>\n      <td>12</td>\n      <td>10</td>\n      <td>6</td>\n      <td>9</td>\n    </tr>\n  </tbody>\n</table>\n</div>"
     },
     "execution_count": 4,
     "metadata": {},
     "output_type": "execute_result"
    }
   ],
   "source": [
    "dynamic_df = pd.read_csv('dynamic_number_experiment.csv')\n",
    "dynamic_df=dynamic_df[['data_set','best_model_score_0', 'best_model_score_1', 'best_model_score_2', 'best_model_score_3', 'best_model_score_4','number_of_prototypes_0','number_of_prototypes_1','number_of_prototypes_2','number_of_prototypes_3','number_of_prototypes_4']]\n",
    "dynamic_df.head()"
   ],
   "metadata": {
    "collapsed": false,
    "pycharm": {
     "name": "#%%\n"
    }
   }
  },
  {
   "cell_type": "code",
   "execution_count": 5,
   "outputs": [
    {
     "data": {
      "text/plain": "  dataset      acc   n\n0   hotel  0.89789  23\n1   hotel  0.90736  22\n2   hotel  0.89894  23\n3   hotel  0.91464  20\n4   hotel  0.89989  21",
      "text/html": "<div>\n<style scoped>\n    .dataframe tbody tr th:only-of-type {\n        vertical-align: middle;\n    }\n\n    .dataframe tbody tr th {\n        vertical-align: top;\n    }\n\n    .dataframe thead th {\n        text-align: right;\n    }\n</style>\n<table border=\"1\" class=\"dataframe\">\n  <thead>\n    <tr style=\"text-align: right;\">\n      <th></th>\n      <th>dataset</th>\n      <th>acc</th>\n      <th>n</th>\n    </tr>\n  </thead>\n  <tbody>\n    <tr>\n      <th>0</th>\n      <td>hotel</td>\n      <td>0.89789</td>\n      <td>23</td>\n    </tr>\n    <tr>\n      <th>1</th>\n      <td>hotel</td>\n      <td>0.90736</td>\n      <td>22</td>\n    </tr>\n    <tr>\n      <th>2</th>\n      <td>hotel</td>\n      <td>0.89894</td>\n      <td>23</td>\n    </tr>\n    <tr>\n      <th>3</th>\n      <td>hotel</td>\n      <td>0.91464</td>\n      <td>20</td>\n    </tr>\n    <tr>\n      <th>4</th>\n      <td>hotel</td>\n      <td>0.89989</td>\n      <td>21</td>\n    </tr>\n  </tbody>\n</table>\n</div>"
     },
     "execution_count": 5,
     "metadata": {},
     "output_type": "execute_result"
    }
   ],
   "source": [
    "data = []\n",
    "for id, row in dynamic_df.iterrows():\n",
    "    for i in range(5):\n",
    "        data.append((row['data_set'], row[f'best_model_score_{i}'], row[f'number_of_prototypes_{i}']))\n",
    "dynamic_df=pd.DataFrame(data)\n",
    "dynamic_df.columns=['dataset','acc','n']\n",
    "dynamic_df.head()"
   ],
   "metadata": {
    "collapsed": false,
    "pycharm": {
     "name": "#%%\n"
    }
   }
  },
  {
   "cell_type": "code",
   "execution_count": 6,
   "outputs": [],
   "source": [
    "cnn_accuracy = {\n",
    "    'imdb': 0.893,\n",
    "    'amazon': 0.911,\n",
    "    'yelp': 0.867,\n",
    "    'rottentomatoes': 0.776,\n",
    "    'hotel': 0.929\n",
    "}\n",
    "\n",
    "titles = ['IMDB','Amazon Reviews', 'Yelp Reviews', 'Rotten Tomatoes', 'Hotel Reviews']"
   ],
   "metadata": {
    "collapsed": false,
    "pycharm": {
     "name": "#%%\n"
    }
   }
  },
  {
   "cell_type": "code",
   "execution_count": 20,
   "outputs": [],
   "source": [
    "sns.set_style('whitegrid')\n",
    "sns.set_context('paper', font_scale=1.4,  rc={\"lines.linewidth\": 1})\n",
    "pd.set_option('display.max_rows', 110)\n",
    "\n",
    "fig, axs = plt.subplots(1, 5, figsize=(19,3))\n",
    "\n",
    "for i, ((ds, cnn_acc), ax) in enumerate(zip(cnn_accuracy.items(), axs)):\n",
    "    dyn_df = dynamic_df[dynamic_df['dataset']==ds]\n",
    "    stat_df = static_df[static_df['dataset']==ds]\n",
    "\n",
    "    sns.lineplot(x='n', y='acc', data=stat_df, err_style='bars', ci='sd', label='Static', ax=ax, legend=False)\n",
    "    ax.set_xlabel('Number of prototypes')\n",
    "    ax.set_ylabel('')\n",
    "    if i==0:\n",
    "        ax.set_ylabel('Accuracy')\n",
    "    ax.axhline(cnn_acc, color='gray',linestyle='--', label='CNN')\n",
    "    ax.errorbar([dyn_df['n'].mean()], [dyn_df['acc'].mean()], yerr=[dyn_df['acc'].std()], xerr=[dyn_df['n'].std()],\n",
    "                fmt='.', color='orange', label='Dynamic', markersize=5, linewidth=1.3)\n",
    "    ax.set_xscale('log', base=2)\n",
    "    ax.set_xticks([2, 4,8,16,32,64])\n",
    "    ax.get_xaxis().set_major_formatter(matplotlib.ticker.ScalarFormatter())\n",
    "    ax.set_title(titles[i])\n",
    "    ax.set_ylim(0.5)\n",
    "\n",
    "plt.legend(title='Legend', bbox_to_anchor=(1.05, 1), loc='upper left', borderaxespad=0.)\n",
    "# plt.show()\n",
    "# fig.text(0.5, 0.04, 'Number of prototypes', ha='center', va='center')\n",
    "plt.savefig('nprotos.png', bbox_inches='tight',dpi=300)\n",
    "plt.close()\n"
   ],
   "metadata": {
    "collapsed": false,
    "pycharm": {
     "name": "#%%\n"
    }
   }
  },
  {
   "cell_type": "code",
   "execution_count": null,
   "outputs": [],
   "source": [],
   "metadata": {
    "collapsed": false,
    "pycharm": {
     "name": "#%%\n"
    }
   }
  }
 ],
 "metadata": {
  "kernelspec": {
   "display_name": "Python 3",
   "language": "python",
   "name": "python3"
  },
  "language_info": {
   "codemirror_mode": {
    "name": "ipython",
    "version": 2
   },
   "file_extension": ".py",
   "mimetype": "text/x-python",
   "name": "python",
   "nbconvert_exporter": "python",
   "pygments_lexer": "ipython2",
   "version": "2.7.6"
  }
 },
 "nbformat": 4,
 "nbformat_minor": 0
}