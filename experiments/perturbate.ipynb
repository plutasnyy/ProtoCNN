{
 "cells": [
  {
   "cell_type": "code",
   "execution_count": 1,
   "metadata": {
    "collapsed": true
   },
   "outputs": [
    {
     "name": "stderr",
     "output_type": "stream",
     "text": [
      "Global seed set to 0\n"
     ]
    }
   ],
   "source": [
    "import warnings\n",
    "from configparser import ConfigParser\n",
    "\n",
    "from easydict import EasyDict\n",
    "from pytorch_lightning import seed_everything\n",
    "\n",
    "from models.protoconv.comet_connector import CometConnector\n",
    "from models.protoconv.data_visualizer import DataVisualizer\n",
    "from utils import plot_html\n",
    "\n",
    "warnings.simplefilter(\"ignore\")\n",
    "seed_everything(0)\n",
    "\n",
    "config = ConfigParser()\n",
    "config.read('../config.ini')\n",
    "comet_config = EasyDict(config['cometml'])\n",
    "\n",
    "comet_connector = CometConnector(comet_config.apikey, comet_config.projectname, comet_config.workspace, rel_path='..')\n"
   ]
  },
  {
   "cell_type": "code",
   "execution_count": 2,
   "metadata": {
    "pycharm": {
     "name": "#%%\n"
    }
   },
   "outputs": [],
   "source": [
    "experiments = {\n",
    "    'imdb': 'abc1851dba1c46f28e16ddd90ec9c3e6',\n",
    "    'amazon': 'e81f6bb0081f459c8e5c2b42cae6a2ea',\n",
    "    'yelp': '26daecaeebd246a9ac9c14bdbafcc1fe',\n",
    "    'rottentomatoes': '6b4aef88e5144aa396f4eef98490e3a7',\n",
    "    'hotel': '9378a9ae08c64f96a2e6fabcdc33fa3c'\n",
    "}"
   ]
  },
  {
   "cell_type": "code",
   "execution_count": 3,
   "outputs": [
    {
     "data": {
      "text/plain": "<IPython.core.display.HTML object>",
      "text/html": "<h1>hotel 0</h1>"
     },
     "metadata": {},
     "output_type": "display_data"
    },
    {
     "name": "stdout",
     "output_type": "stream",
     "text": [
      "[125, 69, 208, 294, 486]\n",
      "() [[0.0]] got an excellent rate thanks\n",
      "(0,) [[0.847309947013855]] an excellent rate thanks\n",
      "(1,) [[1.2396495342254639]] got excellent rate thanks\n",
      "(2,) [[1.0120694637298584]] got an rate thanks\n",
      "(3,) [[1.1226856708526611]] got an excellent thanks\n",
      "(4,) [[1.6330969333648682]] got an excellent rate\n",
      "(0, 1) [[2.0491092205047607]] excellent rate thanks\n",
      "(0, 2) [[1.610662579536438]] an rate thanks\n",
      "(0, 3) [[1.8494173288345337]] an excellent thanks\n",
      "(0, 4) [[2.4542572498321533]] an excellent rate\n",
      "(1, 2) [[1.855340600013733]] got rate thanks\n",
      "(1, 3) [[2.165269136428833]] got excellent thanks\n",
      "(1, 4) [[2.7956371307373047]] got excellent rate\n",
      "(2, 3) [[1.5488430261611938]] got an thanks\n",
      "(2, 4) [[2.3918638229370117]] got an rate\n",
      "(3, 4) [[2.5191071033477783]] got an excellent\n",
      "(0, 1, 2) [[2.626941442489624]] rate thanks\n",
      "(0, 1, 3) [[2.7730395793914795]] excellent thanks\n",
      "(0, 1, 4) [[3.313727378845215]] excellent rate\n",
      "(0, 2, 3) [[2.3802027702331543]] an thanks\n",
      "(0, 2, 4) [[2.9333462715148926]] an rate\n",
      "(0, 3, 4) [[3.1451287269592285]] an excellent\n",
      "(1, 2, 3) [[2.7913858890533447]] got thanks\n",
      "(1, 2, 4) [[3.1823887825012207]] got rate\n",
      "(1, 3, 4) [[3.221921920776367]] got excellent\n",
      "(2, 3, 4) [[3.070547342300415]] got an\n",
      "(0, 1, 2, 3) [[3.3170721530914307]] thanks\n",
      "(0, 1, 2, 4) [[3.3616833686828613]] rate\n",
      "(0, 1, 3, 4) [[3.363435745239258]] excellent\n",
      "(0, 2, 3, 4) [[3.365196943283081]] an\n",
      "(1, 2, 3, 4) [[3.3690030574798584]] got\n"
     ]
    },
    {
     "data": {
      "text/plain": "<IPython.core.display.HTML object>",
      "text/html": "got an excellent rate thanks<br>"
     },
     "metadata": {},
     "output_type": "display_data"
    }
   ],
   "source": [
    "\n",
    "import torch\n",
    "import pandas as pd\n",
    "from more_itertools import powerset\n",
    "\n",
    "for dataset, experiment_id in experiments.items():\n",
    "    if dataset != 'hotel':\n",
    "        continue\n",
    "\n",
    "    for fold_id in range(5):\n",
    "        plot_html(f'<h1>{dataset} {fold_id}</h1>')\n",
    "\n",
    "        prototypes_words = []\n",
    "\n",
    "        comet_connector.set_experiment(experiment_id, fold=fold_id)\n",
    "        comet_connector.get_model()\n",
    "\n",
    "        model = comet_connector.model\n",
    "        model.cuda()\n",
    "        model.eval()\n",
    "        model.conv1.conv1.padding = 0\n",
    "\n",
    "        data_visualizer = DataVisualizer(model)\n",
    "\n",
    "        words_matrix = model.prototype_tokens.tolist()\n",
    "        prototypes_id_tokens_to_extend = []\n",
    "\n",
    "        stoi = comet_connector.TEXT.vocab.stoi\n",
    "        itos = comet_connector.TEXT.vocab.itos\n",
    "\n",
    "        plot_string = ''\n",
    "        for proto_id, tokens_list in enumerate(words_matrix):\n",
    "            if proto_id < 2:\n",
    "                continue\n",
    "            if model.enabled_prototypes_mask[proto_id].tolist() == 0:\n",
    "                continue\n",
    "            plot_data = []\n",
    "\n",
    "            print(tokens_list)\n",
    "            with torch.no_grad():\n",
    "                x = torch.tensor(tokens_list).unsqueeze(0).cuda()\n",
    "                embedding = model.embedding(x).permute((0, 2, 1))\n",
    "                latent_space = model.conv1(embedding).squeeze(2).squeeze(0)\n",
    "\n",
    "                for indexes_to_hide in powerset([0,1,2,3,4]):\n",
    "                    if len(indexes_to_hide)>=5:\n",
    "                        continue\n",
    "                    new_x = [stoi['<unk>'] if token_id in indexes_to_hide else token\n",
    "                             for token_id, token in enumerate(tokens_list)]\n",
    "                    new_x_torch = torch.tensor(new_x).unsqueeze(0).cuda()\n",
    "                    new_phrase = ' '.join(str(itos[t]) for t in new_x if t!=0)\n",
    "                    embedding = model.embedding(new_x_torch).permute((0, 2, 1))\n",
    "                    new_latent_space = model.conv1(embedding).squeeze(2).squeeze(0)\n",
    "                    dist = torch.cdist(latent_space.unsqueeze(0), new_latent_space.unsqueeze(0)).tolist()\n",
    "                    print(indexes_to_hide, dist, new_phrase)\n",
    "                    plot_data.append([new_phrase, dist[0][0]])\n",
    "            df = pd.DataFrame(plot_data, columns=['Phrase','Distance'])\n",
    "\n",
    "\n",
    "            words = [itos[int(token)] for token in tokens_list]\n",
    "            words = [w for w in words if w not in ['<START>', '<END>', '<pad>']]\n",
    "\n",
    "            plot_string += ' '.join(words) + '<br>'\n",
    "            break\n",
    "        plot_html(plot_string)\n",
    "        break"
   ],
   "metadata": {
    "collapsed": false,
    "pycharm": {
     "name": "#%%\n"
    }
   }
  },
  {
   "cell_type": "code",
   "execution_count": 10,
   "metadata": {
    "pycharm": {
     "name": "#%%\n"
    }
   },
   "outputs": [],
   "source": [
    "df = df.sort_values('Distance')\n"
   ]
  },
  {
   "cell_type": "code",
   "execution_count": 31,
   "outputs": [
    {
     "data": {
      "text/plain": "<Figure size 864x252 with 1 Axes>",
      "image/png": "[encoded data removed]"
     },
     "metadata": {},
     "output_type": "display_data"
    }
   ],
   "source": [
    "import seaborn as sns\n",
    "import matplotlib.pyplot as plt\n",
    "plt.rcParams[\"figure.figsize\"] = (12,3.5)\n",
    "\n",
    "sns.set_style('whitegrid')\n",
    "sns.set_context('paper', font_scale=1.6)\n",
    "# sns.set_context('paper', font_scale=1.68,  rc={\"lines.linewidth\": 2.2})\n",
    "\n",
    "\n",
    "sns.scatterplot(data=df, x='Phrase', y='Distance')\n",
    "plt.tight_layout()\n",
    "plt.xticks(rotation=90)\n",
    "plt.ylim(-0.1, 3.6)\n",
    "plt.tick_params(axis='both', which='major', labelsize=10)\n",
    "plt.savefig('perturbate.png', bbox_inches='tight',dpi=300)\n"
   ],
   "metadata": {
    "collapsed": false,
    "pycharm": {
     "name": "#%%\n"
    }
   }
  },
  {
   "cell_type": "code",
   "execution_count": null,
   "outputs": [],
   "source": [],
   "metadata": {
    "collapsed": false,
    "pycharm": {
     "name": "#%%\n"
    }
   }
  }
 ],
 "metadata": {
  "kernelspec": {
   "display_name": "Python 3",
   "language": "python",
   "name": "python3"
  },
  "language_info": {
   "codemirror_mode": {
    "name": "ipython",
    "version": 3
   },
   "file_extension": ".py",
   "mimetype": "text/x-python",
   "name": "python",
   "nbconvert_exporter": "python",
   "pygments_lexer": "ipython3",
   "version": "3.8.3"
  }
 },
 "nbformat": 4,
 "nbformat_minor": 1
}